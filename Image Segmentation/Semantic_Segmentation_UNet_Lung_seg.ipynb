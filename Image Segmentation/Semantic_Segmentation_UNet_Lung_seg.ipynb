{
  "cells": [
    {
      "cell_type": "markdown",
      "metadata": {
        "id": "f6SMzjrNc01p"
      },
      "source": [
        "# Lung segmentation from thoracic X-Ray images with UNET\n",
        "\n",
        "*by Georgios K. Ouzounis*"
      ]
    },
    {
      "cell_type": "markdown",
      "metadata": {
        "id": "xFJPQhZWquVE"
      },
      "source": [
        "## Contents\n",
        "\n",
        "1. [The challenge](#the-challenge)\n",
        "2. [Get the training data](#get-the-training-data)\n",
        "3. [Get the code repo](#get-the-code-repo)\n",
        "4. [Create the model](#create-the-model)\n",
        "5. [Train the model](#train-the-model)\n",
        "6. [Inference on test images](#inference-on-test-images)\n",
        "7. [Acknowledgements](#acknowledgements)"
      ]
    },
    {
      "cell_type": "markdown",
      "metadata": {
        "id": "d1eh4t1FoiX4"
      },
      "source": [
        "## The challenge <a name=\"the-challenge\"></a>"
      ]
    },
    {
      "cell_type": "markdown",
      "metadata": {
        "id": "3KjjH76TghDw"
      },
      "source": [
        "<img src=\"https://raw.githubusercontent.com/georgiosouzounis/lung-seg-xray-unet/main/images/title2.png\" width = \"600\"/>"
      ]
    },
    {
      "cell_type": "markdown",
      "metadata": {
        "id": "jMJWSLbOgzlc"
      },
      "source": [
        "Given an annotated image dataset of lungs from thoracic x-ray images, train a semantic segmentation model (UNET) and compute inference on new, previously unseen images.\n",
        "\n",
        "**DISCLAIMER:**\n",
        "In the following, \"author\" refers to Georgios Ouzounis.\n",
        "\n",
        "- The work presented in this notebook is independent from past works of the author at varius companies and institutions. It is different with regards to the technology and code used and does not relate to any prior products, research work or IP developed by the author.\n",
        "- This notebook (code) is developed explicitly for educational purposes, demonstrating how one can train the UNET model. It is not meant for any other usage and the author cannot be held accountable for its outcome and deliverables if used for a purpose different from the one stated.   "
      ]
    },
    {
      "cell_type": "markdown",
      "metadata": {
        "id": "TJzaHNTMt6el"
      },
      "source": [
        "**IMPORTANT:** before start working on this notebook change your Runtime setting to GPU."
      ]
    },
    {
      "cell_type": "markdown",
      "metadata": {
        "id": "VKXvjc_0gZmM"
      },
      "source": [
        "## Get the training data <a name=\"get-the-training-data\"></a>\n",
        "\n",
        "For this exercise will use a publicly available dataset of thoracic X-Ray images. It is posted in [kaggle.com](https://www.kaggle.com/nikhilpandey360/chest-xray-masks-and-labels) and is a kind contribution by [Nikhil Pandey](https://www.kaggle.com/nikhilpandey360). The archived collection is approximately 9.58 GB in size."
      ]
    },
    {
      "cell_type": "markdown",
      "metadata": {
        "id": "FbmuM5wst4zF"
      },
      "source": [
        "### Connect to Kaggle.com\n",
        "\n",
        "We will import this dataset into our working  session directly from Kaggle. To read  more on how to import kaggle datasets directly into Google Colab please refer to this [documentation page](https://www.kaggle.com/general/74235)."
      ]
    },
    {
      "cell_type": "code",
      "execution_count": null,
      "metadata": {
        "id": "UBACZkJgmNWk"
      },
      "outputs": [],
      "source": [
        "# install the kaggle API\n",
        "!pip install -q kaggle"
      ]
    },
    {
      "cell_type": "code",
      "execution_count": null,
      "metadata": {
        "id": "DZ4SdqQIdP3-"
      },
      "outputs": [],
      "source": [
        "# create a kaggle directory\n",
        "!mkdir ~/.kaggle "
      ]
    },
    {
      "cell_type": "markdown",
      "metadata": {
        "id": "ZFEp01d3mql4"
      },
      "source": [
        "Right-click on the side bar and select Upload File in the root directory. Choose your kaggle.json token."
      ]
    },
    {
      "cell_type": "code",
      "execution_count": null,
      "metadata": {
        "id": "3bfuSRr8mpTI"
      },
      "outputs": [],
      "source": [
        "# move the token into the kaggle directory\n",
        "!mv /content/kaggle.json ~/.kaggle/"
      ]
    },
    {
      "cell_type": "code",
      "execution_count": null,
      "metadata": {
        "id": "D3Va7HEzmnwl"
      },
      "outputs": [],
      "source": [
        "# change the permisions of the file\n",
        "!chmod 600 ~/.kaggle/kaggle.json"
      ]
    },
    {
      "cell_type": "code",
      "execution_count": null,
      "metadata": {
        "id": "tWWMLimlnOHE"
      },
      "outputs": [],
      "source": [
        " # test it out\n",
        " !kaggle datasets list"
      ]
    },
    {
      "cell_type": "markdown",
      "metadata": {
        "id": "DWogQwMjuBHV"
      },
      "source": [
        "###  Get the dataset"
      ]
    },
    {
      "cell_type": "code",
      "execution_count": null,
      "metadata": {
        "colab": {
          "base_uri": "https://localhost:8080/"
        },
        "id": "qO3SSITsnapt",
        "outputId": "42d4b955-a442-4d6b-f561-18713d8ecdd7"
      },
      "outputs": [],
      "source": [
        "# start the download\n",
        "!kaggle datasets download 'nikhilpandey360/chest-xray-masks-and-labels'"
      ]
    },
    {
      "cell_type": "markdown",
      "metadata": {
        "id": "_prFRRbCKjIm"
      },
      "source": [
        "the above takes approximately 4 min to complete"
      ]
    },
    {
      "cell_type": "markdown",
      "metadata": {
        "id": "SmaDZColuEh6"
      },
      "source": [
        "### Setup the project data directories\n",
        "\n",
        "Let us now create our dataset directory structure"
      ]
    },
    {
      "cell_type": "code",
      "execution_count": null,
      "metadata": {
        "id": "-oZcl53auC8P"
      },
      "outputs": [],
      "source": [
        "%mkdir dataset\n",
        "%mkdir dataset/images # for source images\n",
        "%mkdir dataset/masks # for annotation masks\n",
        "%mkdir dataset/test # for test images\n",
        "%mkdir dataset/temp # temp storage"
      ]
    },
    {
      "cell_type": "markdown",
      "metadata": {
        "id": "ESM21vJjLpwN"
      },
      "source": [
        "### Uncompress the archive\n",
        "\n",
        "You will get a warning message about the storage usage which you may ignore as the dataset fits into the available space"
      ]
    },
    {
      "cell_type": "code",
      "execution_count": null,
      "metadata": {
        "id": "bYQdbsayv_bM"
      },
      "outputs": [],
      "source": [
        "!unzip chest-xray-masks-and-labels.zip -d dataset/temp/"
      ]
    },
    {
      "cell_type": "markdown",
      "metadata": {
        "id": "pzbCybE1Lzjy"
      },
      "source": [
        "the above takes approximately 5 min to complete"
      ]
    },
    {
      "cell_type": "code",
      "execution_count": null,
      "metadata": {
        "id": "Ioe-ENLfyBma"
      },
      "outputs": [],
      "source": [
        "# remove the original zip file\n",
        "%rm chest-xray-masks-and-labels.zip"
      ]
    },
    {
      "cell_type": "code",
      "execution_count": null,
      "metadata": {
        "colab": {
          "base_uri": "https://localhost:8080/"
        },
        "id": "98DuUhpwxywn",
        "outputId": "e36e47cc-c71e-4aca-bb5c-cd60aa5a0f7e"
      },
      "outputs": [],
      "source": [
        "%ls dataset/temp/Lung\\ Segmentation"
      ]
    },
    {
      "cell_type": "code",
      "execution_count": null,
      "metadata": {
        "id": "OnLVciuJyLha"
      },
      "outputs": [],
      "source": [
        "%mv dataset/temp/Lung\\ Segmentation/CXR_png/* dataset/images/\n",
        "IMAGE_PATH = \"/content/dataset/images/\""
      ]
    },
    {
      "cell_type": "code",
      "execution_count": null,
      "metadata": {
        "id": "IDQRxS9iyvfB"
      },
      "outputs": [],
      "source": [
        "%mv dataset/temp/Lung\\ Segmentation/masks/* dataset/masks/\n",
        "MASK_PATH = '/content/dataset/masks/'"
      ]
    },
    {
      "cell_type": "code",
      "execution_count": null,
      "metadata": {
        "id": "1d5uX36Gy1gm"
      },
      "outputs": [],
      "source": [
        "%mv dataset/temp/Lung\\ Segmentation/test/* dataset/test/\n",
        "TEST_PATH = '/content/dataset/test/'"
      ]
    },
    {
      "cell_type": "code",
      "execution_count": null,
      "metadata": {
        "id": "_uTT-k3fy5yp"
      },
      "outputs": [],
      "source": [
        "# clean-up\n",
        "%rm -r dataset/temp/"
      ]
    },
    {
      "cell_type": "markdown",
      "metadata": {
        "id": "edAjYY8Hhfs9"
      },
      "source": [
        "| <img src=\"https://raw.githubusercontent.com/georgiosouzounis/lung-seg-xray-unet/main/images/image1.png\" width=\"300\"/> | <img src=\"https://raw.githubusercontent.com/georgiosouzounis/lung-seg-xray-unet/main/images/mask1.png\" width=\"300\"/> |\n",
        "|:--:|:--:|\n",
        "|example of an x-ray image | example of the corresponding annotation|"
      ]
    },
    {
      "cell_type": "markdown",
      "metadata": {
        "id": "yfz-H2SjPvPA"
      },
      "source": [
        "### Harmonize the dataset\n",
        "\n",
        "Next, we will make several corrections to bring the contents of the ```images/``` and ```masks/``` directories in agreement with the UNET library requirements."
      ]
    },
    {
      "cell_type": "markdown",
      "metadata": {
        "id": "Ac82EqWzQRm4"
      },
      "source": [
        "**Step 1:** some of the masks contain the ```_mask``` suffix in their file-name. Every image in the ```images/``` directory needs to have a mask in the ```masks/``` directory of exactly the same name. Thus we need to crop this suffix where ever it appears."
      ]
    },
    {
      "cell_type": "code",
      "execution_count": null,
      "metadata": {
        "id": "xz5NY_Jb5qHj"
      },
      "outputs": [],
      "source": [
        "# importing os module\n",
        "import os\n",
        "\n",
        "# suffix cropping function\n",
        "def rchop(s, suffix):\n",
        "    if suffix and s.endswith(suffix):\n",
        "        return s[:-len(suffix)]\n",
        "    return s\n",
        "\n",
        "suffix = \"_mask.png\"\n",
        "\n",
        "# iterate over all mask images and edit the file-names\n",
        "for count, filename in enumerate(os.listdir(\"/content/dataset/masks\")):\n",
        "  src = \"/content/dataset/masks/\" + filename\n",
        "  res = rchop(src, suffix)\n",
        "  dst = \"\"\n",
        "  if src != res:\n",
        "    dst = rchop(src, suffix) + \".png\"\n",
        "    os.rename(src, dst)"
      ]
    },
    {
      "cell_type": "markdown",
      "metadata": {
        "id": "c17CA4YXRHjw"
      },
      "source": [
        "**Step 2:** Not all source images have corresponding mask images. We need to identify those that don't and remove them (place them in temp directory)"
      ]
    },
    {
      "cell_type": "code",
      "execution_count": null,
      "metadata": {
        "colab": {
          "base_uri": "https://localhost:8080/"
        },
        "id": "6a6aYHqf8nMF",
        "outputId": "04cec9e9-22b2-4093-fa04-51f03c8a7594"
      },
      "outputs": [],
      "source": [
        "# check the number of files in the images/ and masks/ directories\n",
        "import os.path\n",
        "\n",
        "print(\"number of files in images/ directory: \" + str(len([name for name in os.listdir(\"/content/dataset/images/\")])))\n",
        "print(\"number of files in masks/ directory: \" + str(len([name for name in os.listdir(\"/content/dataset/masks/\")])))"
      ]
    },
    {
      "cell_type": "code",
      "execution_count": null,
      "metadata": {
        "id": "vTYv82TvBENo"
      },
      "outputs": [],
      "source": [
        "# function to confirm the existence of a file in a given directory\n",
        "def searchFile(fileName, TARGET_PATH):\n",
        "  for root, dirs, files in os.walk(TARGET_PATH):\n",
        "    for Files in files:\n",
        "      #print(Files)\n",
        "      found = Files.find(fileName)\n",
        "      if found != -1:\n",
        "        break\n",
        "  return found"
      ]
    },
    {
      "cell_type": "code",
      "execution_count": null,
      "metadata": {
        "id": "JGXfmCGtDHBe"
      },
      "outputs": [],
      "source": [
        "%mkdir /content/dataset/orphan_images"
      ]
    },
    {
      "cell_type": "code",
      "execution_count": null,
      "metadata": {
        "colab": {
          "base_uri": "https://localhost:8080/"
        },
        "id": "sTFzFIviAQhF",
        "outputId": "55d983a7-1196-47d1-aa00-db9d76a2bbad"
      },
      "outputs": [],
      "source": [
        "# clean up the images/ directory by removing all images that do not have a mask\n",
        "import shutil \n",
        "\n",
        "cnt = 0\n",
        "\n",
        "for count, filename in enumerate(os.listdir(\"/content/dataset/images\")):\n",
        "  found = searchFile(filename, MASK_PATH)\n",
        "  if found == -1:\n",
        "    cnt = cnt + 1\n",
        "    src = \"/content/dataset/images/\" + filename \n",
        "    dst = \"/content/dataset/orphan_images/\" + filename\n",
        "    dest = shutil.move(src, dst) \n",
        "print(\"number of files not matched: \" + str(cnt))"
      ]
    },
    {
      "cell_type": "code",
      "execution_count": null,
      "metadata": {
        "colab": {
          "base_uri": "https://localhost:8080/"
        },
        "id": "cO5AIGhB8-Vv",
        "outputId": "2982434a-b039-47d1-ab90-58ec820ab83d"
      },
      "outputs": [],
      "source": [
        "# confirm consistency\n",
        "print(\"number of files in images/ directory: \" + str(len([name for name in os.listdir(\"/content/dataset/images/\")])))\n",
        "print(\"number of files in masks/ directory: \" + str(len([name for name in os.listdir(\"/content/dataset/masks/\")])))"
      ]
    },
    {
      "cell_type": "markdown",
      "metadata": {
        "id": "ftMPX_QQGsm-"
      },
      "source": [
        "**Step 3:** convert mask images to binary. If there exist multiple classes one needs to set a unique pixel value for each class and re-format the mask images accordingly. In this case we have one class only (lungs) thus each image needs to be binary; 0 for background and 1 for lungs."
      ]
    },
    {
      "cell_type": "code",
      "execution_count": null,
      "metadata": {
        "id": "pdqe0b_AGy5-"
      },
      "outputs": [],
      "source": [
        "import cv2\n",
        "\n",
        "for count, filename in enumerate(os.listdir(\"/content/dataset/masks\")):\n",
        "  src = \"/content/dataset/masks/\" + filename\n",
        "  img = cv2.imread(src, cv2.IMREAD_GRAYSCALE)\n",
        "  (T, res) = cv2.threshold(img, 0, 1, cv2.THRESH_BINARY)\n",
        "  cv2.imwrite(src, res)"
      ]
    },
    {
      "cell_type": "markdown",
      "metadata": {
        "id": "CMrPkmwzIe9m"
      },
      "source": [
        "the above takes approximately 60 sec to execute"
      ]
    },
    {
      "cell_type": "markdown",
      "metadata": {
        "id": "Y169WD9Sc-Cr"
      },
      "source": [
        "## Get the code repo <a name=\"get-the-code-repo\"></a>"
      ]
    },
    {
      "cell_type": "markdown",
      "metadata": {
        "id": "sHk-db3WgShO"
      },
      "source": [
        "The code repo is an edited version of Divan Gupta's [Image-Segmentation-Keras](https://github.com/divamgupta/image-segmentation-keras), to support Keras in TF2.5."
      ]
    },
    {
      "cell_type": "code",
      "execution_count": null,
      "metadata": {
        "id": "xct9iSvncyWX"
      },
      "outputs": [],
      "source": [
        "!git clone https://github.com/georgiosouzounis/semantic-segmentation-tf2.git"
      ]
    },
    {
      "cell_type": "code",
      "execution_count": null,
      "metadata": {
        "colab": {
          "base_uri": "https://localhost:8080/"
        },
        "id": "Wd3i_3qgYUjj",
        "outputId": "f2594609-7809-4099-9ffd-541cd806a06b"
      },
      "outputs": [],
      "source": [
        "%cd semantic-segmentation-tf2/"
      ]
    },
    {
      "cell_type": "markdown",
      "metadata": {
        "id": "oqi4_K2IeEFb"
      },
      "source": [
        "## Create the model <a name=\"create-the-model\"></a>"
      ]
    },
    {
      "cell_type": "markdown",
      "metadata": {
        "id": "z44idWUYT8a0"
      },
      "source": [
        "Before we create the model let us first find a reasonable set of dimensions to resize our input images to. \n"
      ]
    },
    {
      "cell_type": "code",
      "execution_count": null,
      "metadata": {
        "colab": {
          "base_uri": "https://localhost:8080/"
        },
        "id": "WQxHdljPTFOk",
        "outputId": "d2e8a2f0-97ae-48d1-dae7-87c98e220c8f"
      },
      "outputs": [],
      "source": [
        "# check the image attributes\n",
        "import cv2\n",
        "from google.colab.patches import cv2_imshow\n",
        "img = cv2.imread(\"/content/dataset/test/CHNCXR_0194_0.png\")\n",
        "img.shape"
      ]
    },
    {
      "cell_type": "code",
      "execution_count": null,
      "metadata": {
        "colab": {
          "base_uri": "https://localhost:8080/",
          "height": 593
        },
        "id": "f5yPU3wVTur3",
        "outputId": "5057ec62-7f9a-43b9-e772-6b13772a6253"
      },
      "outputs": [],
      "source": [
        "img = cv2.resize(img, (576, 576))\n",
        "cv2_imshow(img)"
      ]
    },
    {
      "cell_type": "code",
      "execution_count": null,
      "metadata": {
        "id": "oYFYfmCRdah3"
      },
      "outputs": [],
      "source": [
        "# import the vgg_unet model\n",
        "from tf2_sem_seg.models.unet import vgg_unet"
      ]
    },
    {
      "cell_type": "code",
      "execution_count": null,
      "metadata": {
        "colab": {
          "base_uri": "https://localhost:8080/"
        },
        "id": "LNmmF33WdqA_",
        "outputId": "875a8a53-1e8a-434e-de41-3d20fb82e571"
      },
      "outputs": [],
      "source": [
        "# instantiate our model:\n",
        "# + n_classes = 1 (background) + 1 (lungs)\n",
        "# + input_height: resized number of rows for input image; must be divisable by 32\n",
        "# + input_width:  resized number of cols for input image; must be divisable by 32\n",
        "model = vgg_unet(n_classes=2, input_height=576, input_width=576)"
      ]
    },
    {
      "cell_type": "markdown",
      "metadata": {
        "id": "8b2iJaJ7POxY"
      },
      "source": [
        "Let us now review the model we just instantiated and compare it against the u-net and vgg16 architectures.\n",
        "\n",
        "\n",
        "| <img src=\"https://github.com/georgiosouzounis/lung-seg-xray-unet/raw/main/images/unet.png\" width=\"500\"/> | <img src=\"https://github.com/georgiosouzounis/lung-seg-xray-unet/raw/main/images/vgg16.png\" width=\"500\"/> |\n",
        "|:---:|:---:|\n",
        "|the u-net architecture | the vgg16 architecture |"
      ]
    },
    {
      "cell_type": "code",
      "execution_count": null,
      "metadata": {
        "id": "PnL02jbqN_g8"
      },
      "outputs": [],
      "source": [
        "# review the model\n",
        "print(model.summary())"
      ]
    },
    {
      "cell_type": "code",
      "execution_count": null,
      "metadata": {
        "id": "UTF_KOIWOQkY"
      },
      "outputs": [],
      "source": [
        "# review the model\n",
        "from keras.utils.vis_utils import plot_model\n",
        "plot_model(model, to_file='model_plot.png', show_shapes=True, show_layer_names=True)"
      ]
    },
    {
      "cell_type": "markdown",
      "metadata": {
        "id": "VVQHOxcneLHz"
      },
      "source": [
        "## Train the model <a name=\"train-the-model\"></a>"
      ]
    },
    {
      "cell_type": "code",
      "execution_count": null,
      "metadata": {
        "id": "coiRfTS04Jk5"
      },
      "outputs": [],
      "source": [
        "# create a temporary directory for model checkpoints\n",
        "%mkdir /content/tmp/"
      ]
    },
    {
      "cell_type": "code",
      "execution_count": null,
      "metadata": {
        "colab": {
          "base_uri": "https://localhost:8080/"
        },
        "id": "E035egfAeJX9",
        "outputId": "b096c95b-0430-4cbf-a292-f4c4dd40a4b8"
      },
      "outputs": [],
      "source": [
        "# train_images: directory containing the source images for training\n",
        "# train_annotations: directory containing the masks for training\n",
        "# checkpoints_path: directory for storing weights and logs\n",
        "# epochs: the number of training epochs set to 5 for the demo. \n",
        "#   Increase this to a higher number for better results.\n",
        "model.train(\n",
        "    train_images =  \"../dataset/images/\",\n",
        "    train_annotations = \"../dataset/masks/\",\n",
        "    checkpoints_path = \"../tmp/vgg_unet_1\" , epochs=5 \n",
        ")"
      ]
    },
    {
      "cell_type": "code",
      "execution_count": null,
      "metadata": {
        "id": "xVyMRIF8dxtL"
      },
      "outputs": [],
      "source": [
        "# make a backup in your Google Drive\n",
        "%cp /content/tmp/* /content/drive/MyDrive/deep-learning/lung-seg-xray/"
      ]
    },
    {
      "cell_type": "markdown",
      "metadata": {
        "id": "CzHDRzU4kQvk"
      },
      "source": [
        "## Inference on test images <a name=\"inference-on-test-images\"></a>"
      ]
    },
    {
      "cell_type": "code",
      "execution_count": null,
      "metadata": {
        "id": "1t_Pzl6JedqA"
      },
      "outputs": [],
      "source": [
        "out = model.predict_segmentation(\n",
        "    inp=\"/content/dataset/test/CHNCXR_0025_0.png\",\n",
        "    out_fname=\"/content/tmp/out.png\"\n",
        ")"
      ]
    },
    {
      "cell_type": "code",
      "execution_count": null,
      "metadata": {
        "colab": {
          "base_uri": "https://localhost:8080/",
          "height": 604
        },
        "id": "67sY63sUeglw",
        "outputId": "3afa7584-76a4-45fd-8fd0-f7d5028b972a"
      },
      "outputs": [],
      "source": [
        "img = cv2.imread(\"/content/tmp/out.png\")\n",
        "img = cv2.resize(img, (int(img.shape[1]/5), int(img.shape[0]/5)))\n",
        "cv2_imshow(img)\n"
      ]
    },
    {
      "cell_type": "code",
      "execution_count": null,
      "metadata": {
        "id": "cN8YfNZ5epl5"
      },
      "outputs": [],
      "source": [
        "# alpha-blend the inference with the source\n",
        "o = model.predict_segmentation(\n",
        "    inp=\"/content/dataset/test/CHNCXR_0025_0.png\",\n",
        "    out_fname=\"/content/tmp/out_blend.png\" , overlay_img=True, show_legends=True,\n",
        "    class_names = [\"background\",\"lungs\"]\n",
        ")"
      ]
    },
    {
      "cell_type": "code",
      "execution_count": null,
      "metadata": {
        "colab": {
          "base_uri": "https://localhost:8080/",
          "height": 604
        },
        "id": "CoKyZRj3eqQP",
        "outputId": "bada401f-1258-4c08-ace1-a7e06cdf9010"
      },
      "outputs": [],
      "source": [
        "img = cv2.imread(\"/content/tmp/out_blend.png\")\n",
        "img = cv2.resize(img, (int(img.shape[1]/5), int(img.shape[0]/5)))\n",
        "from google.colab.patches import cv2_imshow\n",
        "cv2_imshow(img)"
      ]
    },
    {
      "cell_type": "markdown",
      "metadata": {
        "id": "O1pe6Jjouhyb"
      },
      "source": [
        "## Acknowledgements <a name=\"acknowledgements\"></a>\n",
        "\n",
        "The author would like to thank and acknowledge the following:\n",
        "\n",
        "- [Divan Gupta](https://github.com/divamgupta) and all other contributors to the ```Image Segmentation Keras : Implementation of Segnet, FCN, UNet, PSPNet and other models in Keras``` [repo](https://github.com/divamgupta/image-segmentation-keras) for their amazing work in putting all the functionality together to make semantic segmentation accessible through Keras.\n",
        "- [Nikhil Pandey](https://www.kaggle.com/nikhilpandey360) for posting an excellent quality X-Ray dataset of thoracic scans in Kaggle.  "
      ]
    },
    {
      "cell_type": "code",
      "execution_count": null,
      "metadata": {
        "id": "aqw1g2d_r8U6"
      },
      "outputs": [],
      "source": []
    }
  ],
  "metadata": {
    "accelerator": "GPU",
    "colab": {
      "collapsed_sections": [],
      "name": "lung-seg-xray-unet.ipynb",
      "provenance": []
    },
    "kernelspec": {
      "display_name": "Python 3",
      "name": "python3"
    },
    "language_info": {
      "name": "python"
    }
  },
  "nbformat": 4,
  "nbformat_minor": 0
}
