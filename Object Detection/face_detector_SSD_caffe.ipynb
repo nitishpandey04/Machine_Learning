{
  "cells": [
    {
      "cell_type": "markdown",
      "metadata": {
        "id": "ZY2lhJGlUolg"
      },
      "source": [
        "# Face Detection using SSD and the Caffe pre-trained model\n",
        "\n",
        "*by Georgios K. Ouzounis, June 21st, 2021*\n",
        "\n",
        "This notebook demonstrates face detection in still images using the SSD detector configured with the Caffe pretrained model "
      ]
    },
    {
      "cell_type": "markdown",
      "metadata": {
        "id": "xhWwBRmakX3R"
      },
      "source": [
        "## Copy the model files\n",
        "\n",
        "We need the configuration file and the pre-trained weights"
      ]
    },
    {
      "cell_type": "code",
      "execution_count": null,
      "metadata": {
        "colab": {
          "base_uri": "https://localhost:8080/"
        },
        "id": "xEbKHfgpWWzj",
        "outputId": "f4d8e351-1d8f-4d18-c94f-587d3a555777"
      },
      "outputs": [],
      "source": [
        "%mkdir model/\n",
        "%cd model"
      ]
    },
    {
      "cell_type": "code",
      "execution_count": null,
      "metadata": {
        "colab": {
          "base_uri": "https://localhost:8080/"
        },
        "id": "y6CqVH9HXsuJ",
        "outputId": "b3a06682-4fbc-4ab7-e279-c82f47a3f263"
      },
      "outputs": [],
      "source": [
        "!wget https://raw.githubusercontent.com/georgiosouzounis/face-detection-ssd-caffe/main/model/deploy.prototxt.txt"
      ]
    },
    {
      "cell_type": "code",
      "execution_count": null,
      "metadata": {
        "colab": {
          "base_uri": "https://localhost:8080/"
        },
        "id": "AgcbX_0tYWGB",
        "outputId": "0b6bae62-ec0f-48b1-d3ec-9d6ab7d14116"
      },
      "outputs": [],
      "source": [
        "!wget https://github.com/georgiosouzounis/face-detection-ssd-caffe/raw/main/model/res10_300x300_ssd_iter_140000.caffemodel"
      ]
    },
    {
      "cell_type": "code",
      "execution_count": null,
      "metadata": {
        "colab": {
          "base_uri": "https://localhost:8080/"
        },
        "id": "Dz_dS44dftRL",
        "outputId": "0e3f7f44-108e-491c-c649-8dda6acc2248"
      },
      "outputs": [],
      "source": [
        "%cd ../"
      ]
    },
    {
      "cell_type": "markdown",
      "metadata": {
        "id": "ok5tWU5u6all"
      },
      "source": [
        "## Import the libraries"
      ]
    },
    {
      "cell_type": "code",
      "execution_count": null,
      "metadata": {
        "id": "mt_oDhct6oy5"
      },
      "outputs": [],
      "source": [
        "# import the relevant libraries\n",
        "import numpy as np\n",
        "import cv2 # openCV"
      ]
    },
    {
      "cell_type": "code",
      "execution_count": null,
      "metadata": {
        "id": "OeeRXO2aVEcd"
      },
      "outputs": [],
      "source": [
        "# check the opencv version\n",
        "if cv2.__version__ < '4.5.2':\n",
        "  print(\"opencv version: \", cv2.__version__)\n",
        "  print(\"please upgrade your opencv installation to the latest\")"
      ]
    },
    {
      "cell_type": "code",
      "execution_count": null,
      "metadata": {
        "colab": {
          "base_uri": "https://localhost:8080/"
        },
        "id": "WltH7moJZLUN",
        "outputId": "35d717d4-e390-4f4f-98a5-7836922852e3"
      },
      "outputs": [],
      "source": [
        "# if the openCV version is < 4.4.0 update to the latest otherwise skip this step\n",
        "!pip install opencv-python==4.5.2.52"
      ]
    },
    {
      "cell_type": "markdown",
      "metadata": {
        "id": "e8GGbOIU6lwN"
      },
      "source": [
        "## Read the model and initialize the detector"
      ]
    },
    {
      "cell_type": "code",
      "execution_count": null,
      "metadata": {
        "id": "owV7y9stVIVq"
      },
      "outputs": [],
      "source": [
        "# load the serialized model from the local copy in model/\n",
        "model_cfg = \"model/deploy.prototxt.txt\"\n",
        "model_weights = \"model/res10_300x300_ssd_iter_140000.caffemodel\""
      ]
    },
    {
      "cell_type": "code",
      "execution_count": null,
      "metadata": {
        "id": "sxTyPL41lIq3"
      },
      "outputs": [],
      "source": [
        "# read the model\n",
        "detector = cv2.dnn.readNetFromCaffe(model_cfg, model_weights)"
      ]
    },
    {
      "cell_type": "markdown",
      "metadata": {
        "id": "UCwOThbBlSEX"
      },
      "source": [
        "## Get a test image\n",
        "\n",
        "Set the path to an image containing a face in your own Google Drive or use the example as shown:"
      ]
    },
    {
      "cell_type": "code",
      "execution_count": null,
      "metadata": {
        "id": "uhyDVnJrdIU4"
      },
      "outputs": [],
      "source": [
        "%cp /content/drive/MyDrive/macron.jpg ."
      ]
    },
    {
      "cell_type": "code",
      "execution_count": null,
      "metadata": {
        "colab": {
          "base_uri": "https://localhost:8080/"
        },
        "id": "p2ta7LAEir3Z",
        "outputId": "ecabda40-2da5-4836-df40-31211ea11736"
      },
      "outputs": [],
      "source": [
        "from google.colab import drive\n",
        "drive.mount('/content/drive')"
      ]
    },
    {
      "cell_type": "code",
      "execution_count": null,
      "metadata": {
        "id": "A0M2RO74dgaE"
      },
      "outputs": [],
      "source": [
        "test_img = \"macron.jpg\""
      ]
    },
    {
      "cell_type": "code",
      "execution_count": null,
      "metadata": {
        "id": "vvhdDMDzY90c"
      },
      "outputs": [],
      "source": [
        "# load the test image and create an image blob\n",
        "image = cv2.imread(test_img)\n",
        "(h, w) = image.shape[:2]"
      ]
    },
    {
      "cell_type": "code",
      "execution_count": null,
      "metadata": {
        "colab": {
          "base_uri": "https://localhost:8080/",
          "height": 575
        },
        "id": "mcd-IbTRg0oc",
        "outputId": "eb910885-5fc1-49ae-e08f-31636a0e7905"
      },
      "outputs": [],
      "source": [
        "# display the image \n",
        "from google.colab.patches import cv2_imshow\n",
        "cv2_imshow(image)"
      ]
    },
    {
      "cell_type": "markdown",
      "metadata": {
        "id": "uGC5q3q560V3"
      },
      "source": [
        "## Deploy the detector"
      ]
    },
    {
      "cell_type": "code",
      "execution_count": null,
      "metadata": {
        "id": "t82dGX97aZ1t"
      },
      "outputs": [],
      "source": [
        "# set the intensity scaling factor; 1 in this case, i.e. original image intensities\n",
        "scalefactor = 1.0\n",
        "# set the new dimensions for image resizing to match the network requirements\n",
        "new_size = (300, 300)\n",
        "\n",
        "# create a blob using OpenCV's DNN functionality and by performing mean subtraction \n",
        "# to normalize the input\n",
        "blob = cv2.dnn.blobFromImage(image, scalefactor, new_size, (127.5, 127.5, 127.5), swapRB=True, crop=False)"
      ]
    },
    {
      "cell_type": "code",
      "execution_count": null,
      "metadata": {
        "colab": {
          "base_uri": "https://localhost:8080/"
        },
        "id": "dbcQ2yPZdtXP",
        "outputId": "96de3d42-5f3b-4548-b6f7-ecf037267320"
      },
      "outputs": [],
      "source": [
        "# set the blob as input to the network\n",
        "detector.setInput(blob)\n",
        "# compute the forward pass - detect faces if any\n",
        "detections = detector.forward()\n",
        "detections.shape"
      ]
    },
    {
      "cell_type": "markdown",
      "metadata": {
        "id": "PL-87zOo7Dh7"
      },
      "source": [
        "## Analyze the results"
      ]
    },
    {
      "cell_type": "markdown",
      "metadata": {
        "id": "_XnDTQiGqzmK"
      },
      "source": [
        "Let us review the detections. The shape of the detections is expected to be in the following format: ```[1, 1, N, 7]```, where N is the number of detected bounding boxes. For each detection, the description has the format: ```[image_id, label, conf, x_min, y_min, x_max, y_max]```."
      ]
    },
    {
      "cell_type": "code",
      "execution_count": null,
      "metadata": {
        "colab": {
          "base_uri": "https://localhost:8080/"
        },
        "id": "DWjpkDirv4fn",
        "outputId": "e341cff9-3202-43e8-8157-ed7c6fff491e"
      },
      "outputs": [],
      "source": [
        "detections[0][0][0]"
      ]
    },
    {
      "cell_type": "code",
      "execution_count": null,
      "metadata": {
        "colab": {
          "base_uri": "https://localhost:8080/"
        },
        "id": "MtnLhOdDmg64",
        "outputId": "309beb36-b565-47fb-9e18-51fbfec399c6"
      },
      "outputs": [],
      "source": [
        "len(detections[0][0])"
      ]
    },
    {
      "cell_type": "code",
      "execution_count": null,
      "metadata": {
        "id": "aZmFqPz8eKwJ"
      },
      "outputs": [],
      "source": [
        "# set the confidence threshold\n",
        "confidence_threshold = 0.5"
      ]
    },
    {
      "cell_type": "code",
      "execution_count": null,
      "metadata": {
        "id": "vJ6f8eM2eCd-"
      },
      "outputs": [],
      "source": [
        "# loop over the detections\n",
        "for i in range(0, detections.shape[2]):\n",
        "  # extract the confidence (i.e., probability) associated with the prediction\n",
        "  confidence = detections[0, 0, i, 2]\n",
        "  # ignore weak detections\n",
        "  if confidence > confidence_threshold:\n",
        "    # compute the (x, y)-coordinates of the bounding box for the detected object\n",
        "    box = detections[0, 0, i, 3:7] * np.array([w, h, w, h])\n",
        "    (startX, startY, endX, endY) = box.astype(\"int\")\n",
        "    # draw the bounding box of the detected face\n",
        "    cv2.rectangle(image, (startX, startY), (endX, endY), (0, 0, 255), 2)\n",
        "    # print the probability of this detection\n",
        "    text = \"confidence: {:.2f}%\".format(confidence * 100)\n",
        "    y = startY - 10 if startY - 10 > 10 else startY + 10\n",
        "    cv2.putText(image, text, (startX, y), cv2.FONT_HERSHEY_SIMPLEX, 0.45, (0, 0, 255), 2)"
      ]
    },
    {
      "cell_type": "code",
      "execution_count": null,
      "metadata": {
        "colab": {
          "base_uri": "https://localhost:8080/",
          "height": 575
        },
        "id": "uvrcEBUfeU9o",
        "outputId": "31a2186b-51cd-40f0-e1e3-2320fa39fb17"
      },
      "outputs": [],
      "source": [
        "# show the output image\n",
        "cv2_imshow(image)"
      ]
    },
    {
      "cell_type": "code",
      "execution_count": null,
      "metadata": {
        "id": "0AmjzNHP-REi"
      },
      "outputs": [],
      "source": []
    }
  ],
  "metadata": {
    "colab": {
      "collapsed_sections": [],
      "name": "face_detector_SSD_caffe.ipynb",
      "provenance": []
    },
    "kernelspec": {
      "display_name": "Python 3",
      "name": "python3"
    },
    "language_info": {
      "name": "python"
    }
  },
  "nbformat": 4,
  "nbformat_minor": 0
}
