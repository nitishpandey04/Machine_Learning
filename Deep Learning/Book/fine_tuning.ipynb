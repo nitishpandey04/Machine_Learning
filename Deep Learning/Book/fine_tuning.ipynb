{
  "nbformat": 4,
  "nbformat_minor": 0,
  "metadata": {
    "colab": {
      "name": "fine_tuning.ipynb",
      "provenance": [],
      "collapsed_sections": []
    },
    "kernelspec": {
      "name": "python3",
      "display_name": "Python 3"
    },
    "language_info": {
      "name": "python"
    },
    "accelerator": "GPU"
  },
  "cells": [
    {
      "cell_type": "markdown",
      "source": [
        "Steps:-\n",
        "1. train a classifier with data augmentation by keeping the convolution base frozen\n",
        "2. make last few layers of convolution base as trainable\n",
        "3. compile and train the model again so that fine tuning can happen and the convolution base can become more task specific"
      ],
      "metadata": {
        "id": "JCJNQPZ0I9Ub"
      }
    },
    {
      "cell_type": "code",
      "execution_count": 1,
      "metadata": {
        "id": "XJnVX4becsWU"
      },
      "outputs": [],
      "source": [
        "import tensorflow as tf\n",
        "from tensorflow import keras\n",
        "from keras import layers\n",
        "import numpy as np\n",
        "import pandas as pd\n",
        "import matplotlib.pyplot as plt\n",
        "import seaborn as sns\n",
        "import warnings\n",
        "warnings.filterwarnings('ignore')"
      ]
    },
    {
      "cell_type": "code",
      "source": [
        "from google.colab import files\n",
        "files.upload()"
      ],
      "metadata": {
        "colab": {
          "resources": {
            "http://localhost:8080/nbextensions/google.colab/files.js": {
              "data": "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",
              "ok": true,
              "headers": [
                [
                  "content-type",
                  "application/javascript"
                ]
              ],
              "status": 200,
              "status_text": ""
            }
          },
          "base_uri": "https://localhost:8080/",
          "height": 91
        },
        "id": "2jkaMKvjc4wR",
        "outputId": "ffffd242-62c0-4995-b5a8-f75171fdc2b0"
      },
      "execution_count": 2,
      "outputs": [
        {
          "output_type": "display_data",
          "data": {
            "text/plain": [
              "<IPython.core.display.HTML object>"
            ],
            "text/html": [
              "\n",
              "     <input type=\"file\" id=\"files-2363710f-de87-4a0c-a4ab-1429bfed2e24\" name=\"files[]\" multiple disabled\n",
              "        style=\"border:none\" />\n",
              "     <output id=\"result-2363710f-de87-4a0c-a4ab-1429bfed2e24\">\n",
              "      Upload widget is only available when the cell has been executed in the\n",
              "      current browser session. Please rerun this cell to enable.\n",
              "      </output>\n",
              "      <script src=\"/nbextensions/google.colab/files.js\"></script> "
            ]
          },
          "metadata": {}
        },
        {
          "output_type": "stream",
          "name": "stdout",
          "text": [
            "Saving kaggle.json to kaggle.json\n"
          ]
        },
        {
          "output_type": "execute_result",
          "data": {
            "text/plain": [
              "{'kaggle.json': b'{\"username\":\"nitishpandey04\",\"key\":\"25e697bcb9f519cb2af5d5a7c19f2874\"}'}"
            ]
          },
          "metadata": {},
          "execution_count": 2
        }
      ]
    },
    {
      "cell_type": "code",
      "source": [
        "!mkdir ~/.kaggle\n",
        "!cp kaggle.json ~/.kaggle/\n",
        "!chmod 600 ~/.kaggle/kaggle.json"
      ],
      "metadata": {
        "id": "IVfuafW-c60F"
      },
      "execution_count": 3,
      "outputs": []
    },
    {
      "cell_type": "code",
      "source": [
        "!kaggle competitions download -c dogs-vs-cats"
      ],
      "metadata": {
        "colab": {
          "base_uri": "https://localhost:8080/"
        },
        "id": "8Q7q2uCxc8b3",
        "outputId": "5ed1662f-8e78-45c9-ca0b-fab84eaee28a"
      },
      "execution_count": 4,
      "outputs": [
        {
          "output_type": "stream",
          "name": "stdout",
          "text": [
            "Downloading dogs-vs-cats.zip to /content\n",
            " 97% 791M/812M [00:03<00:00, 268MB/s]\n",
            "100% 812M/812M [00:03<00:00, 266MB/s]\n"
          ]
        }
      ]
    },
    {
      "cell_type": "code",
      "source": [
        "!unzip -qq dogs-vs-cats.zip"
      ],
      "metadata": {
        "id": "MN_rJDOFc-Fx"
      },
      "execution_count": 5,
      "outputs": []
    },
    {
      "cell_type": "code",
      "source": [
        "!unzip -qq train.zip"
      ],
      "metadata": {
        "id": "LvL7mwMxdCoQ"
      },
      "execution_count": 6,
      "outputs": []
    },
    {
      "cell_type": "code",
      "source": [
        "import os, shutil, pathlib"
      ],
      "metadata": {
        "id": "y44F3hCQdGAK"
      },
      "execution_count": 7,
      "outputs": []
    },
    {
      "cell_type": "code",
      "source": [
        "original_dir = pathlib.Path(\"train\")\n",
        "new_base_dir = pathlib.Path(\"cats_vs_dogs_small\")"
      ],
      "metadata": {
        "id": "_6EmSzQ2dLH7"
      },
      "execution_count": 8,
      "outputs": []
    },
    {
      "cell_type": "code",
      "source": [
        "def make_subset(subset_name, start_index, end_index):\n",
        "    for category in (\"cat\", \"dog\"):\n",
        "        dir = new_base_dir / subset_name / category\n",
        "        os.makedirs(dir)\n",
        "        fnames = [f\"{category}.{i}.jpg\"\n",
        "                  for i in range(start_index, end_index)]\n",
        "        for fname in fnames:\n",
        "            shutil.copyfile(src=original_dir / fname, dst=dir / fname)\n",
        "\n",
        "make_subset(\"train\", start_index=0, end_index=1000)\n",
        "make_subset(\"validation\", start_index=1000, end_index=1500)\n",
        "make_subset(\"test\", start_index=1500, end_index=2500)"
      ],
      "metadata": {
        "id": "dUGtcT-5dNZc"
      },
      "execution_count": 9,
      "outputs": []
    },
    {
      "cell_type": "markdown",
      "source": [
        "Making train, test and validation dataset objects"
      ],
      "metadata": {
        "id": "eDHxrOfIIv1-"
      }
    },
    {
      "cell_type": "code",
      "source": [
        "from tensorflow.keras.utils import image_dataset_from_directory\n",
        "\n",
        "train_dataset = image_dataset_from_directory(\n",
        "    new_base_dir / \"train\",\n",
        "    image_size=(180, 180),\n",
        "    batch_size=32\n",
        ")\n",
        "\n",
        "validation_dataset = image_dataset_from_directory(\n",
        "    new_base_dir / \"validation\",\n",
        "    image_size=(180, 180),\n",
        "    batch_size=32\n",
        ")\n",
        "\n",
        "test_dataset = image_dataset_from_directory(\n",
        "    new_base_dir / \"test\",\n",
        "    image_size=(180, 180),\n",
        "    batch_size=32\n",
        ")"
      ],
      "metadata": {
        "colab": {
          "base_uri": "https://localhost:8080/"
        },
        "id": "8r-Cl-ZVdPZ7",
        "outputId": "d8e7698a-2503-4a4a-c08c-a7030810c5c8"
      },
      "execution_count": 10,
      "outputs": [
        {
          "output_type": "stream",
          "name": "stdout",
          "text": [
            "Found 2000 files belonging to 2 classes.\n",
            "Found 1000 files belonging to 2 classes.\n",
            "Found 2000 files belonging to 2 classes.\n"
          ]
        }
      ]
    },
    {
      "cell_type": "markdown",
      "source": [
        "Getting the convolution base"
      ],
      "metadata": {
        "id": "9bNYvn6CIp6f"
      }
    },
    {
      "cell_type": "code",
      "source": [
        "conv_base = keras.applications.vgg16.VGG16(include_top=False, input_shape=(180, 180, 3))\n",
        "conv_base.trainable = False"
      ],
      "metadata": {
        "colab": {
          "base_uri": "https://localhost:8080/"
        },
        "id": "Pik8VzFMXQ-s",
        "outputId": "01156ea0-edbd-4e28-ce7c-1a77d0f863f6"
      },
      "execution_count": 11,
      "outputs": [
        {
          "output_type": "stream",
          "name": "stdout",
          "text": [
            "Downloading data from https://storage.googleapis.com/tensorflow/keras-applications/vgg16/vgg16_weights_tf_dim_ordering_tf_kernels_notop.h5\n",
            "58892288/58889256 [==============================] - 0s 0us/step\n",
            "58900480/58889256 [==============================] - 0s 0us/step\n"
          ]
        }
      ]
    },
    {
      "cell_type": "markdown",
      "source": [
        "Defining Model Architecture"
      ],
      "metadata": {
        "id": "XVVqc97nI2c6"
      }
    },
    {
      "cell_type": "code",
      "source": [
        "data_augmentation = keras.Sequential([\n",
        "                                    layers.RandomFlip(\"horizontal\"),\n",
        "                                    layers.RandomRotation(0.1),\n",
        "                                    layers.RandomZoom(0.2)\n",
        "])\n",
        "\n",
        "inputs = keras.Input(shape=(180, 180, 3))\n",
        "x = data_augmentation(inputs)\n",
        "x = keras.applications.vgg16.preprocess_input(x)\n",
        "x = conv_base(x)\n",
        "x = layers.Flatten()(x)\n",
        "x = layers.Dense(256)(x)\n",
        "x = layers.Dropout(0.5)(x)\n",
        "outputs = layers.Dense(1, activation=\"sigmoid\")(x)\n",
        "model = keras.Model(inputs=inputs, outputs=outputs)\n",
        "\n",
        "model.compile(loss=\"binary_crossentropy\",\n",
        "            optimizer=\"rmsprop\",\n",
        "            metrics=[\"accuracy\"])"
      ],
      "metadata": {
        "id": "2lCVxncPCqsS"
      },
      "execution_count": 12,
      "outputs": []
    },
    {
      "cell_type": "code",
      "source": [
        "model.summary()"
      ],
      "metadata": {
        "colab": {
          "base_uri": "https://localhost:8080/"
        },
        "id": "vnhZmp-lCqoY",
        "outputId": "f9aa4d14-f32f-412b-cd2d-d5c446e2cf63"
      },
      "execution_count": 13,
      "outputs": [
        {
          "output_type": "stream",
          "name": "stdout",
          "text": [
            "Model: \"model\"\n",
            "_________________________________________________________________\n",
            " Layer (type)                Output Shape              Param #   \n",
            "=================================================================\n",
            " input_2 (InputLayer)        [(None, 180, 180, 3)]     0         \n",
            "                                                                 \n",
            " sequential (Sequential)     (None, 180, 180, 3)       0         \n",
            "                                                                 \n",
            " tf.__operators__.getitem (S  (None, 180, 180, 3)      0         \n",
            " licingOpLambda)                                                 \n",
            "                                                                 \n",
            " tf.nn.bias_add (TFOpLambda)  (None, 180, 180, 3)      0         \n",
            "                                                                 \n",
            " vgg16 (Functional)          (None, 5, 5, 512)         14714688  \n",
            "                                                                 \n",
            " flatten (Flatten)           (None, 12800)             0         \n",
            "                                                                 \n",
            " dense (Dense)               (None, 256)               3277056   \n",
            "                                                                 \n",
            " dropout (Dropout)           (None, 256)               0         \n",
            "                                                                 \n",
            " dense_1 (Dense)             (None, 1)                 257       \n",
            "                                                                 \n",
            "=================================================================\n",
            "Total params: 17,992,001\n",
            "Trainable params: 3,277,313\n",
            "Non-trainable params: 14,714,688\n",
            "_________________________________________________________________\n"
          ]
        }
      ]
    },
    {
      "cell_type": "code",
      "source": [
        "callbacks = [\n",
        "             keras.callbacks.ModelCheckpoint(filepath=\"FE_with_DA.keras\",\n",
        "                                             monitor=\"val_loss\",\n",
        "                                             save_best_only=True)\n",
        "]"
      ],
      "metadata": {
        "id": "imOeW6F-CqmW"
      },
      "execution_count": 14,
      "outputs": []
    },
    {
      "cell_type": "code",
      "source": [
        "history = model.fit(train_dataset,\n",
        "                    epochs=50,\n",
        "                    validation_data=validation_dataset,\n",
        "                    callbacks=callbacks)"
      ],
      "metadata": {
        "id": "exDTZsHJEfwR",
        "colab": {
          "base_uri": "https://localhost:8080/"
        },
        "outputId": "53b8e264-8166-42dd-9d42-dc51e78bb0cb"
      },
      "execution_count": 15,
      "outputs": [
        {
          "output_type": "stream",
          "name": "stdout",
          "text": [
            "Epoch 1/50\n",
            "63/63 [==============================] - 26s 203ms/step - loss: 21.1717 - accuracy: 0.8890 - val_loss: 8.8768 - val_accuracy: 0.9490\n",
            "Epoch 2/50\n",
            "63/63 [==============================] - 11s 172ms/step - loss: 7.4478 - accuracy: 0.9450 - val_loss: 5.1951 - val_accuracy: 0.9700\n",
            "Epoch 3/50\n",
            "63/63 [==============================] - 11s 172ms/step - loss: 6.3936 - accuracy: 0.9580 - val_loss: 3.5996 - val_accuracy: 0.9700\n",
            "Epoch 4/50\n",
            "63/63 [==============================] - 11s 173ms/step - loss: 4.6737 - accuracy: 0.9635 - val_loss: 2.9170 - val_accuracy: 0.9760\n",
            "Epoch 5/50\n",
            "63/63 [==============================] - 11s 169ms/step - loss: 3.9210 - accuracy: 0.9670 - val_loss: 5.3999 - val_accuracy: 0.9670\n",
            "Epoch 6/50\n",
            "63/63 [==============================] - 11s 171ms/step - loss: 3.0675 - accuracy: 0.9690 - val_loss: 8.0211 - val_accuracy: 0.9610\n",
            "Epoch 7/50\n",
            "63/63 [==============================] - 11s 170ms/step - loss: 4.2722 - accuracy: 0.9650 - val_loss: 3.5540 - val_accuracy: 0.9780\n",
            "Epoch 8/50\n",
            "63/63 [==============================] - 11s 171ms/step - loss: 3.6872 - accuracy: 0.9675 - val_loss: 4.3715 - val_accuracy: 0.9730\n",
            "Epoch 9/50\n",
            "63/63 [==============================] - 11s 172ms/step - loss: 2.8041 - accuracy: 0.9750 - val_loss: 3.7199 - val_accuracy: 0.9820\n",
            "Epoch 10/50\n",
            "63/63 [==============================] - 11s 172ms/step - loss: 2.9817 - accuracy: 0.9730 - val_loss: 3.6373 - val_accuracy: 0.9760\n",
            "Epoch 11/50\n",
            "63/63 [==============================] - 11s 173ms/step - loss: 3.4231 - accuracy: 0.9725 - val_loss: 4.0548 - val_accuracy: 0.9730\n",
            "Epoch 12/50\n",
            "63/63 [==============================] - 11s 173ms/step - loss: 2.0812 - accuracy: 0.9780 - val_loss: 4.1448 - val_accuracy: 0.9750\n",
            "Epoch 13/50\n",
            "63/63 [==============================] - 11s 177ms/step - loss: 2.1730 - accuracy: 0.9775 - val_loss: 2.9039 - val_accuracy: 0.9800\n",
            "Epoch 14/50\n",
            "63/63 [==============================] - 11s 175ms/step - loss: 1.6272 - accuracy: 0.9800 - val_loss: 3.5114 - val_accuracy: 0.9770\n",
            "Epoch 15/50\n",
            "63/63 [==============================] - 11s 177ms/step - loss: 1.9248 - accuracy: 0.9785 - val_loss: 3.6313 - val_accuracy: 0.9740\n",
            "Epoch 16/50\n",
            "63/63 [==============================] - 11s 175ms/step - loss: 2.2857 - accuracy: 0.9745 - val_loss: 4.9299 - val_accuracy: 0.9690\n",
            "Epoch 17/50\n",
            "63/63 [==============================] - 11s 179ms/step - loss: 1.1601 - accuracy: 0.9810 - val_loss: 2.8417 - val_accuracy: 0.9790\n",
            "Epoch 18/50\n",
            "63/63 [==============================] - 11s 175ms/step - loss: 2.1740 - accuracy: 0.9745 - val_loss: 3.1640 - val_accuracy: 0.9770\n",
            "Epoch 19/50\n",
            "63/63 [==============================] - 11s 175ms/step - loss: 1.2939 - accuracy: 0.9800 - val_loss: 3.0911 - val_accuracy: 0.9730\n",
            "Epoch 20/50\n",
            "63/63 [==============================] - 11s 175ms/step - loss: 1.4690 - accuracy: 0.9830 - val_loss: 3.9471 - val_accuracy: 0.9710\n",
            "Epoch 21/50\n",
            "63/63 [==============================] - 11s 175ms/step - loss: 1.2253 - accuracy: 0.9830 - val_loss: 2.8444 - val_accuracy: 0.9770\n",
            "Epoch 22/50\n",
            "63/63 [==============================] - 11s 179ms/step - loss: 1.1499 - accuracy: 0.9840 - val_loss: 1.9975 - val_accuracy: 0.9800\n",
            "Epoch 23/50\n",
            "63/63 [==============================] - 11s 176ms/step - loss: 1.1784 - accuracy: 0.9845 - val_loss: 3.0658 - val_accuracy: 0.9760\n",
            "Epoch 24/50\n",
            "63/63 [==============================] - 11s 175ms/step - loss: 0.6264 - accuracy: 0.9905 - val_loss: 2.4434 - val_accuracy: 0.9770\n",
            "Epoch 25/50\n",
            "63/63 [==============================] - 11s 176ms/step - loss: 0.9050 - accuracy: 0.9850 - val_loss: 2.7179 - val_accuracy: 0.9760\n",
            "Epoch 26/50\n",
            "63/63 [==============================] - 11s 176ms/step - loss: 1.4973 - accuracy: 0.9815 - val_loss: 3.8266 - val_accuracy: 0.9720\n",
            "Epoch 27/50\n",
            "63/63 [==============================] - 11s 175ms/step - loss: 1.0005 - accuracy: 0.9840 - val_loss: 3.0540 - val_accuracy: 0.9730\n",
            "Epoch 28/50\n",
            "63/63 [==============================] - 11s 175ms/step - loss: 0.7429 - accuracy: 0.9880 - val_loss: 2.2292 - val_accuracy: 0.9790\n",
            "Epoch 29/50\n",
            "63/63 [==============================] - 11s 176ms/step - loss: 1.0283 - accuracy: 0.9855 - val_loss: 2.5044 - val_accuracy: 0.9760\n",
            "Epoch 30/50\n",
            "63/63 [==============================] - 11s 175ms/step - loss: 0.9769 - accuracy: 0.9790 - val_loss: 2.9758 - val_accuracy: 0.9790\n",
            "Epoch 31/50\n",
            "63/63 [==============================] - 11s 176ms/step - loss: 0.7370 - accuracy: 0.9880 - val_loss: 3.0050 - val_accuracy: 0.9760\n",
            "Epoch 32/50\n",
            "63/63 [==============================] - 12s 179ms/step - loss: 1.0172 - accuracy: 0.9825 - val_loss: 2.2962 - val_accuracy: 0.9770\n",
            "Epoch 33/50\n",
            "63/63 [==============================] - 11s 176ms/step - loss: 0.8448 - accuracy: 0.9855 - val_loss: 3.4828 - val_accuracy: 0.9730\n",
            "Epoch 34/50\n",
            "63/63 [==============================] - 11s 175ms/step - loss: 0.5017 - accuracy: 0.9845 - val_loss: 2.8180 - val_accuracy: 0.9790\n",
            "Epoch 35/50\n",
            "63/63 [==============================] - 11s 175ms/step - loss: 0.4349 - accuracy: 0.9890 - val_loss: 2.5251 - val_accuracy: 0.9730\n",
            "Epoch 36/50\n",
            "63/63 [==============================] - 11s 175ms/step - loss: 0.6223 - accuracy: 0.9865 - val_loss: 2.0007 - val_accuracy: 0.9800\n",
            "Epoch 37/50\n",
            "63/63 [==============================] - 11s 175ms/step - loss: 0.6799 - accuracy: 0.9875 - val_loss: 2.4575 - val_accuracy: 0.9760\n",
            "Epoch 38/50\n",
            "63/63 [==============================] - 11s 175ms/step - loss: 0.7491 - accuracy: 0.9895 - val_loss: 2.5652 - val_accuracy: 0.9750\n",
            "Epoch 39/50\n",
            "63/63 [==============================] - 11s 174ms/step - loss: 0.4271 - accuracy: 0.9885 - val_loss: 6.8822 - val_accuracy: 0.9500\n",
            "Epoch 40/50\n",
            "63/63 [==============================] - 13s 198ms/step - loss: 0.8778 - accuracy: 0.9865 - val_loss: 3.1300 - val_accuracy: 0.9740\n",
            "Epoch 41/50\n",
            "63/63 [==============================] - 11s 176ms/step - loss: 0.7735 - accuracy: 0.9850 - val_loss: 2.3127 - val_accuracy: 0.9760\n",
            "Epoch 42/50\n",
            "63/63 [==============================] - 11s 176ms/step - loss: 0.7647 - accuracy: 0.9855 - val_loss: 2.7015 - val_accuracy: 0.9800\n",
            "Epoch 43/50\n",
            "63/63 [==============================] - 12s 180ms/step - loss: 0.6358 - accuracy: 0.9880 - val_loss: 1.7881 - val_accuracy: 0.9770\n",
            "Epoch 44/50\n",
            "63/63 [==============================] - 11s 177ms/step - loss: 0.5699 - accuracy: 0.9920 - val_loss: 1.9484 - val_accuracy: 0.9800\n",
            "Epoch 45/50\n",
            "63/63 [==============================] - 11s 176ms/step - loss: 0.5618 - accuracy: 0.9875 - val_loss: 2.6089 - val_accuracy: 0.9740\n",
            "Epoch 46/50\n",
            "63/63 [==============================] - 11s 175ms/step - loss: 0.3733 - accuracy: 0.9875 - val_loss: 2.0113 - val_accuracy: 0.9790\n",
            "Epoch 47/50\n",
            "63/63 [==============================] - 11s 176ms/step - loss: 0.4354 - accuracy: 0.9895 - val_loss: 2.1263 - val_accuracy: 0.9760\n",
            "Epoch 48/50\n",
            "63/63 [==============================] - 11s 176ms/step - loss: 0.3784 - accuracy: 0.9905 - val_loss: 2.0891 - val_accuracy: 0.9790\n",
            "Epoch 49/50\n",
            "63/63 [==============================] - 11s 177ms/step - loss: 0.5260 - accuracy: 0.9895 - val_loss: 1.8107 - val_accuracy: 0.9800\n",
            "Epoch 50/50\n",
            "63/63 [==============================] - 11s 176ms/step - loss: 0.4292 - accuracy: 0.9880 - val_loss: 1.9083 - val_accuracy: 0.9780\n"
          ]
        }
      ]
    },
    {
      "cell_type": "code",
      "source": [
        "plt.plot(range(1, 51), history.history[\"loss\"], label=\"Train\")\n",
        "plt.plot(range(1, 51), history.history[\"val_loss\"], label=\"Validation\")\n",
        "plt.xlabel(\"Epoch\")\n",
        "plt.ylabel(\"Loss\")\n",
        "plt.legend()\n",
        "plt.figure()\n",
        "plt.plot(range(1, 51), history.history[\"accuracy\"], label=\"Train\")\n",
        "plt.plot(range(1, 51), history.history[\"val_accuracy\"], label=\"Validation\")\n",
        "plt.xlabel(\"Epoch\")\n",
        "plt.ylabel(\"Accuracy\")\n",
        "plt.legend()\n",
        "plt.show()"
      ],
      "metadata": {
        "colab": {
          "base_uri": "https://localhost:8080/",
          "height": 541
        },
        "id": "6-kBIfo3EFj4",
        "outputId": "4c685f07-543d-463d-ec56-18539b74d1e3"
      },
      "execution_count": 16,
      "outputs": [
        {
          "output_type": "display_data",
          "data": {
            "text/plain": [
              "<Figure size 432x288 with 1 Axes>"
            ],
            "image/png": "[encoded data removed]"
          },
          "metadata": {
            "needs_background": "light"
          }
        },
        {
          "output_type": "display_data",
          "data": {
            "text/plain": [
              "<Figure size 432x288 with 1 Axes>"
            ],
            "image/png": "[encoded data removed]"
          },
          "metadata": {
            "needs_background": "light"
          }
        }
      ]
    },
    {
      "cell_type": "markdown",
      "source": [
        "#### Now we'll change the trainable state of last few layers of Convolution Base to fine tune them."
      ],
      "metadata": {
        "id": "ttojBsumTEDs"
      }
    },
    {
      "cell_type": "code",
      "source": [
        "conv_base.trainable = True\n",
        "for layer in conv_base.layers[:-4]:\n",
        "    layer.trainable = False"
      ],
      "metadata": {
        "id": "80hR-k7DOI0X"
      },
      "execution_count": 17,
      "outputs": []
    },
    {
      "cell_type": "code",
      "source": [
        "model.compile(loss=\"binary_crossentropy\",\n",
        "              optimizer=keras.optimizers.RMSprop(learning_rate=1e-5),\n",
        "              metrics=[\"accuracy\"])"
      ],
      "metadata": {
        "id": "OCgJF7QzOIw7"
      },
      "execution_count": 18,
      "outputs": []
    },
    {
      "cell_type": "code",
      "source": [
        "callbacks = [\n",
        "             keras.callbacks.ModelCheckpoint(filepath=\"fine_tuning.keras\",\n",
        "                                             save_best_only=True,\n",
        "                                             monitor=\"val_loss\")\n",
        "]"
      ],
      "metadata": {
        "id": "ShXmwGWhOIuz"
      },
      "execution_count": 19,
      "outputs": []
    },
    {
      "cell_type": "code",
      "source": [
        "history = model.fit(train_dataset,\n",
        "                    epochs=30,\n",
        "                    validation_data=validation_dataset,\n",
        "                    callbacks=callbacks)"
      ],
      "metadata": {
        "id": "u7bFQqw4OIsX",
        "colab": {
          "base_uri": "https://localhost:8080/"
        },
        "outputId": "315e310f-ed7f-4511-84c4-ac6706182bf8"
      },
      "execution_count": 20,
      "outputs": [
        {
          "output_type": "stream",
          "name": "stdout",
          "text": [
            "Epoch 1/30\n",
            "63/63 [==============================] - 15s 200ms/step - loss: 0.2319 - accuracy: 0.9940 - val_loss: 3.2815 - val_accuracy: 0.9710\n",
            "Epoch 2/30\n",
            "63/63 [==============================] - 13s 198ms/step - loss: 0.2760 - accuracy: 0.9920 - val_loss: 1.8583 - val_accuracy: 0.9810\n",
            "Epoch 3/30\n",
            "63/63 [==============================] - 13s 197ms/step - loss: 0.5140 - accuracy: 0.9920 - val_loss: 1.7481 - val_accuracy: 0.9780\n",
            "Epoch 4/30\n",
            "63/63 [==============================] - 12s 192ms/step - loss: 0.3956 - accuracy: 0.9915 - val_loss: 2.3307 - val_accuracy: 0.9750\n",
            "Epoch 5/30\n",
            "63/63 [==============================] - 12s 193ms/step - loss: 0.2888 - accuracy: 0.9900 - val_loss: 2.5815 - val_accuracy: 0.9740\n",
            "Epoch 6/30\n",
            "63/63 [==============================] - 13s 198ms/step - loss: 0.4208 - accuracy: 0.9885 - val_loss: 1.7073 - val_accuracy: 0.9790\n",
            "Epoch 7/30\n",
            "63/63 [==============================] - 13s 199ms/step - loss: 0.2514 - accuracy: 0.9925 - val_loss: 1.6291 - val_accuracy: 0.9780\n",
            "Epoch 8/30\n",
            "63/63 [==============================] - 13s 196ms/step - loss: 0.2914 - accuracy: 0.9925 - val_loss: 1.8850 - val_accuracy: 0.9770\n",
            "Epoch 9/30\n",
            "63/63 [==============================] - 12s 193ms/step - loss: 0.2616 - accuracy: 0.9925 - val_loss: 1.9547 - val_accuracy: 0.9820\n",
            "Epoch 10/30\n",
            "63/63 [==============================] - 13s 200ms/step - loss: 0.2675 - accuracy: 0.9925 - val_loss: 1.5054 - val_accuracy: 0.9830\n",
            "Epoch 11/30\n",
            "63/63 [==============================] - 12s 193ms/step - loss: 0.3691 - accuracy: 0.9920 - val_loss: 1.5516 - val_accuracy: 0.9810\n",
            "Epoch 12/30\n",
            "63/63 [==============================] - 12s 194ms/step - loss: 0.1187 - accuracy: 0.9970 - val_loss: 1.9240 - val_accuracy: 0.9810\n",
            "Epoch 13/30\n",
            "63/63 [==============================] - 12s 195ms/step - loss: 0.2908 - accuracy: 0.9925 - val_loss: 1.5578 - val_accuracy: 0.9820\n",
            "Epoch 14/30\n",
            "63/63 [==============================] - 13s 199ms/step - loss: 0.1223 - accuracy: 0.9965 - val_loss: 1.3847 - val_accuracy: 0.9840\n",
            "Epoch 15/30\n",
            "63/63 [==============================] - 12s 192ms/step - loss: 0.0507 - accuracy: 0.9960 - val_loss: 1.5113 - val_accuracy: 0.9830\n",
            "Epoch 16/30\n",
            "63/63 [==============================] - 13s 199ms/step - loss: 0.1908 - accuracy: 0.9950 - val_loss: 1.3791 - val_accuracy: 0.9840\n",
            "Epoch 17/30\n",
            "63/63 [==============================] - 13s 200ms/step - loss: 0.0935 - accuracy: 0.9955 - val_loss: 1.2476 - val_accuracy: 0.9840\n",
            "Epoch 18/30\n",
            "63/63 [==============================] - 12s 193ms/step - loss: 0.1147 - accuracy: 0.9965 - val_loss: 1.4353 - val_accuracy: 0.9840\n",
            "Epoch 19/30\n",
            "63/63 [==============================] - 13s 200ms/step - loss: 0.2607 - accuracy: 0.9915 - val_loss: 1.0819 - val_accuracy: 0.9860\n",
            "Epoch 20/30\n",
            "63/63 [==============================] - 13s 195ms/step - loss: 0.1468 - accuracy: 0.9940 - val_loss: 1.6289 - val_accuracy: 0.9820\n",
            "Epoch 21/30\n",
            "63/63 [==============================] - 12s 194ms/step - loss: 0.1911 - accuracy: 0.9975 - val_loss: 1.3923 - val_accuracy: 0.9800\n",
            "Epoch 22/30\n",
            "63/63 [==============================] - 12s 192ms/step - loss: 0.1336 - accuracy: 0.9965 - val_loss: 1.3035 - val_accuracy: 0.9820\n",
            "Epoch 23/30\n",
            "63/63 [==============================] - 12s 195ms/step - loss: 0.0896 - accuracy: 0.9950 - val_loss: 1.1379 - val_accuracy: 0.9820\n",
            "Epoch 24/30\n",
            "63/63 [==============================] - 13s 197ms/step - loss: 0.0770 - accuracy: 0.9970 - val_loss: 1.2069 - val_accuracy: 0.9810\n",
            "Epoch 25/30\n",
            "63/63 [==============================] - 12s 194ms/step - loss: 0.1137 - accuracy: 0.9955 - val_loss: 1.0831 - val_accuracy: 0.9840\n",
            "Epoch 26/30\n",
            "63/63 [==============================] - 12s 195ms/step - loss: 0.0735 - accuracy: 0.9965 - val_loss: 1.1944 - val_accuracy: 0.9830\n",
            "Epoch 27/30\n",
            "63/63 [==============================] - 12s 195ms/step - loss: 0.0017 - accuracy: 0.9995 - val_loss: 1.5189 - val_accuracy: 0.9810\n",
            "Epoch 28/30\n",
            "63/63 [==============================] - 12s 192ms/step - loss: 0.0846 - accuracy: 0.9970 - val_loss: 1.2691 - val_accuracy: 0.9840\n",
            "Epoch 29/30\n",
            "63/63 [==============================] - 12s 194ms/step - loss: 0.1181 - accuracy: 0.9950 - val_loss: 1.2966 - val_accuracy: 0.9830\n",
            "Epoch 30/30\n",
            "63/63 [==============================] - 13s 195ms/step - loss: 0.0292 - accuracy: 0.9970 - val_loss: 1.8500 - val_accuracy: 0.9750\n"
          ]
        }
      ]
    },
    {
      "cell_type": "code",
      "source": [
        "plt.plot(range(1, 31), history.history[\"loss\"], label=\"Train\")\n",
        "plt.plot(range(1, 31), history.history[\"val_loss\"], label=\"Validation\")\n",
        "plt.xlabel(\"Epoch\")\n",
        "plt.ylabel(\"Loss\")\n",
        "plt.legend()\n",
        "plt.figure()\n",
        "plt.plot(range(1, 31), history.history[\"accuracy\"], label=\"Train\")\n",
        "plt.plot(range(1, 31), history.history[\"val_accuracy\"], label=\"Validation\")\n",
        "plt.xlabel(\"Epoch\")\n",
        "plt.ylabel(\"Accuracy\")\n",
        "plt.legend()\n",
        "plt.show()"
      ],
      "metadata": {
        "id": "r1ge-neXS4qV",
        "colab": {
          "base_uri": "https://localhost:8080/",
          "height": 541
        },
        "outputId": "a2e70680-f1c7-4aad-c1a4-a6be427e8532"
      },
      "execution_count": 22,
      "outputs": [
        {
          "output_type": "display_data",
          "data": {
            "text/plain": [
              "<Figure size 432x288 with 1 Axes>"
            ],
            "image/png": "[encoded data removed]"
          },
          "metadata": {
            "needs_background": "light"
          }
        },
        {
          "output_type": "display_data",
          "data": {
            "text/plain": [
              "<Figure size 432x288 with 1 Axes>"
            ],
            "image/png": "[encoded data removed]"
          },
          "metadata": {
            "needs_background": "light"
          }
        }
      ]
    },
    {
      "cell_type": "markdown",
      "source": [
        "Comparing feature extraction with data augmentation model and fine tuning model\n",
        "- we expect the fine tuning model to do better because it is built upon the other"
      ],
      "metadata": {
        "id": "Hma7m-9vKiyR"
      }
    },
    {
      "cell_type": "code",
      "source": [
        "fe_with_da = keras.models.load_model(\"FE_with_DA.keras\")\n",
        "fine_tuning = keras.models.load_model(\"fine_tuning.keras\")"
      ],
      "metadata": {
        "id": "kej0Y-4HS4m8"
      },
      "execution_count": 23,
      "outputs": []
    },
    {
      "cell_type": "code",
      "source": [
        "fe_with_da.evaluate(test_dataset)"
      ],
      "metadata": {
        "id": "5WNN1VFJS4kn",
        "colab": {
          "base_uri": "https://localhost:8080/"
        },
        "outputId": "2497b57a-a4d9-4510-d6eb-b33b12caf384"
      },
      "execution_count": 24,
      "outputs": [
        {
          "output_type": "stream",
          "name": "stdout",
          "text": [
            "63/63 [==============================] - 7s 108ms/step - loss: 2.2019 - accuracy: 0.9765\n"
          ]
        },
        {
          "output_type": "execute_result",
          "data": {
            "text/plain": [
              "[2.2018609046936035, 0.9764999747276306]"
            ]
          },
          "metadata": {},
          "execution_count": 24
        }
      ]
    },
    {
      "cell_type": "code",
      "source": [
        "fine_tuning.evaluate(test_dataset)"
      ],
      "metadata": {
        "colab": {
          "base_uri": "https://localhost:8080/"
        },
        "id": "oq4E3d-gK7Zb",
        "outputId": "ec38eade-651d-4c25-e16b-84dde66285ac"
      },
      "execution_count": 25,
      "outputs": [
        {
          "output_type": "stream",
          "name": "stdout",
          "text": [
            "63/63 [==============================] - 7s 108ms/step - loss: 1.8198 - accuracy: 0.9745\n"
          ]
        },
        {
          "output_type": "execute_result",
          "data": {
            "text/plain": [
              "[1.8198293447494507, 0.9745000004768372]"
            ]
          },
          "metadata": {},
          "execution_count": 25
        }
      ]
    },
    {
      "cell_type": "markdown",
      "source": [
        "- Surprisingly, fine tuned model has 0.2 % less accuracy than feature extraction model\n",
        "- But, the loss value of fine tuned model is less than the other one."
      ],
      "metadata": {
        "id": "-QplnwDwL15o"
      }
    },
    {
      "cell_type": "code",
      "source": [
        ""
      ],
      "metadata": {
        "id": "3nsOuDSBK7V3"
      },
      "execution_count": null,
      "outputs": []
    },
    {
      "cell_type": "code",
      "source": [
        ""
      ],
      "metadata": {
        "id": "dXD_IPLdK7Tb"
      },
      "execution_count": null,
      "outputs": []
    },
    {
      "cell_type": "code",
      "source": [
        ""
      ],
      "metadata": {
        "id": "Yoc89F5hK7Q5"
      },
      "execution_count": null,
      "outputs": []
    }
  ]
}