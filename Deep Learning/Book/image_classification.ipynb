{
  "nbformat": 4,
  "nbformat_minor": 0,
  "metadata": {
    "colab": {
      "name": "image_classification.ipynb",
      "provenance": [],
      "collapsed_sections": []
    },
    "kernelspec": {
      "name": "python3",
      "display_name": "Python 3"
    },
    "language_info": {
      "name": "python"
    },
    "accelerator": "GPU"
  },
  "cells": [
    {
      "cell_type": "code",
      "source": [
        "import tensorflow as tf\n",
        "from tensorflow import keras\n",
        "from keras import layers\n",
        "import numpy as np\n",
        "import pandas as pd\n",
        "import matplotlib.pyplot as plt\n",
        "import seaborn as sns\n",
        "import warnings\n",
        "warnings.filterwarnings('ignore')"
      ],
      "metadata": {
        "id": "9sjQXL6IyvK_"
      },
      "execution_count": null,
      "outputs": []
    },
    {
      "cell_type": "code",
      "source": [
        "from google.colab import files\n",
        "files.upload()"
      ],
      "metadata": {
        "colab": {
          "resources": {
            "http://localhost:8080/nbextensions/google.colab/files.js": {
              "data": "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",
              "ok": true,
              "headers": [
                [
                  "content-type",
                  "application/javascript"
                ]
              ],
              "status": 200,
              "status_text": ""
            }
          },
          "base_uri": "https://localhost:8080/",
          "height": 91
        },
        "id": "R3r3nFSjzErG",
        "outputId": "8717054b-b69c-4838-9b27-8610e19dcd54"
      },
      "execution_count": null,
      "outputs": [
        {
          "output_type": "display_data",
          "data": {
            "text/plain": [
              "<IPython.core.display.HTML object>"
            ],
            "text/html": [
              "\n",
              "     <input type=\"file\" id=\"files-5df84a32-af83-439a-914e-6a31bbb135dd\" name=\"files[]\" multiple disabled\n",
              "        style=\"border:none\" />\n",
              "     <output id=\"result-5df84a32-af83-439a-914e-6a31bbb135dd\">\n",
              "      Upload widget is only available when the cell has been executed in the\n",
              "      current browser session. Please rerun this cell to enable.\n",
              "      </output>\n",
              "      <script src=\"/nbextensions/google.colab/files.js\"></script> "
            ]
          },
          "metadata": {}
        },
        {
          "output_type": "stream",
          "name": "stdout",
          "text": [
            "Saving kaggle.json to kaggle.json\n"
          ]
        },
        {
          "output_type": "execute_result",
          "data": {
            "text/plain": [
              "{'kaggle.json': b'{\"username\":\"nitishpandey04\",\"key\":\"25e697bcb9f519cb2af5d5a7c19f2874\"}'}"
            ]
          },
          "metadata": {},
          "execution_count": 1
        }
      ]
    },
    {
      "cell_type": "code",
      "source": [
        "!mkdir ~/.kaggle\n",
        "!cp kaggle.json ~/.kaggle/\n",
        "!chmod 600 ~/.kaggle/kaggle.json"
      ],
      "metadata": {
        "id": "BZTXOLyR8ZbH"
      },
      "execution_count": null,
      "outputs": []
    },
    {
      "cell_type": "code",
      "source": [
        "!kaggle competitions download -c dogs-vs-cats"
      ],
      "metadata": {
        "colab": {
          "base_uri": "https://localhost:8080/"
        },
        "id": "zoBCPi7r9Aru",
        "outputId": "155e9563-264f-4897-8439-a93bf14e0d5b"
      },
      "execution_count": null,
      "outputs": [
        {
          "output_type": "stream",
          "name": "stdout",
          "text": [
            "Downloading dogs-vs-cats.zip to /content\n",
            " 98% 794M/812M [00:03<00:00, 240MB/s]\n",
            "100% 812M/812M [00:03<00:00, 245MB/s]\n"
          ]
        }
      ]
    },
    {
      "cell_type": "code",
      "source": [
        "!unzip -qq dogs-vs-cats.zip"
      ],
      "metadata": {
        "id": "rAmLHZVw9eLt"
      },
      "execution_count": null,
      "outputs": []
    },
    {
      "cell_type": "code",
      "source": [
        "!unzip -qq train.zip"
      ],
      "metadata": {
        "id": "aYCkq7IT9mQW"
      },
      "execution_count": null,
      "outputs": []
    },
    {
      "cell_type": "code",
      "source": [
        "import os, shutil, pathlib"
      ],
      "metadata": {
        "id": "TlvciKMk-uu7"
      },
      "execution_count": null,
      "outputs": []
    },
    {
      "cell_type": "code",
      "source": [
        "original_dir = pathlib.Path(\"train\")\n",
        "new_base_dir = pathlib.Path(\"cats_vs_dogs_small\")"
      ],
      "metadata": {
        "id": "Agf4R6JF_Gos"
      },
      "execution_count": null,
      "outputs": []
    },
    {
      "cell_type": "code",
      "source": [
        "def make_subset(subset_name, start_index, end_index):\n",
        "    for category in (\"cat\", \"dog\"):\n",
        "        dir = new_base_dir / subset_name / category\n",
        "        os.makedirs(dir)\n",
        "        fnames = [f\"{category}.{i}.jpg\"\n",
        "                  for i in range(start_index, end_index)]\n",
        "        for fname in fnames:\n",
        "            shutil.copyfile(src=original_dir / fname, dst=dir / fname)\n",
        "\n",
        "make_subset(\"train\", start_index=0, end_index=1000)\n",
        "make_subset(\"validation\", start_index=1000, end_index=1500)\n",
        "make_subset(\"test\", start_index=1500, end_index=2500)"
      ],
      "metadata": {
        "id": "t8Vp8PkF_df4"
      },
      "execution_count": null,
      "outputs": []
    },
    {
      "cell_type": "code",
      "source": [
        "from tensorflow.keras.utils import image_dataset_from_directory\n",
        "\n",
        "train_dataset = image_dataset_from_directory(\n",
        "    new_base_dir / \"train\",\n",
        "    image_size=(180, 180),\n",
        "    batch_size=32\n",
        ")\n",
        "\n",
        "validation_dataset = image_dataset_from_directory(\n",
        "    new_base_dir / \"validation\",\n",
        "    image_size=(180, 180),\n",
        "    batch_size=32\n",
        ")\n",
        "\n",
        "test_dataset = image_dataset_from_directory(\n",
        "    new_base_dir / \"test\",\n",
        "    image_size=(180, 180),\n",
        "    batch_size=32\n",
        ")"
      ],
      "metadata": {
        "id": "Rez_ZK4KLaL3",
        "colab": {
          "base_uri": "https://localhost:8080/"
        },
        "outputId": "b3e7edd0-5407-46fe-87a9-d7867df91690"
      },
      "execution_count": null,
      "outputs": [
        {
          "output_type": "stream",
          "name": "stdout",
          "text": [
            "Found 2000 files belonging to 2 classes.\n",
            "Found 1000 files belonging to 2 classes.\n",
            "Found 2000 files belonging to 2 classes.\n"
          ]
        }
      ]
    },
    {
      "cell_type": "markdown",
      "source": [
        "### We will train the model with EarlyStopping callback along with ModelCheckpoint and we do data augmentation. "
      ],
      "metadata": {
        "id": "3S80qu1_KtIy"
      }
    },
    {
      "cell_type": "code",
      "source": [
        "data_augmentation = keras.Sequential([\n",
        "                                      layers.RandomFlip(\"horizontal\"),\n",
        "                                      layers.RandomRotation(0.1),\n",
        "                                      layers.RandomZoom(0.2)\n",
        "])"
      ],
      "metadata": {
        "id": "MIAOe3irLZJg"
      },
      "execution_count": null,
      "outputs": []
    },
    {
      "cell_type": "code",
      "source": [
        "callbacks = [\n",
        "            #  keras.callbacks.EarlyStopping(monitor=\"val_loss\", patience=2),\n",
        "             keras.callbacks.ModelCheckpoint(\n",
        "                 filepath=\"regularized_covnet_from_scratch.keras\",\n",
        "                 save_best_only=True,\n",
        "                 monitor=\"val_loss\"\n",
        "             )\n",
        "]"
      ],
      "metadata": {
        "id": "RtmtCkgBLZGn"
      },
      "execution_count": null,
      "outputs": []
    },
    {
      "cell_type": "code",
      "source": [
        "inputs = keras.Input(shape=(180, 180, 3))\n",
        "x = data_augmentation(inputs)\n",
        "x = layers.Rescaling(1./255)(inputs)\n",
        "x = layers.Conv2D(filters=32, kernel_size=3, activation=\"relu\")(x)\n",
        "x = layers.MaxPooling2D(pool_size=2)(x)\n",
        "x = layers.Conv2D(filters=64, kernel_size=3, activation=\"relu\")(x)\n",
        "x = layers.MaxPooling2D(pool_size=2)(x)\n",
        "x = layers.Conv2D(filters=128, kernel_size=3, activation=\"relu\")(x)\n",
        "x = layers.MaxPooling2D(pool_size=2)(x)\n",
        "x = layers.Conv2D(filters=256, kernel_size=3, activation=\"relu\")(x)\n",
        "x = layers.MaxPooling2D(pool_size=2)(x)\n",
        "x = layers.Conv2D(filters=256, kernel_size=3, activation=\"relu\")(x)\n",
        "x = layers.Flatten()(x)\n",
        "x = layers.Dropout(0.5)(x)\n",
        "outputs = layers.Dense(1, activation=\"sigmoid\")(x)\n",
        "model = keras.Model(inputs=inputs, outputs=outputs)"
      ],
      "metadata": {
        "id": "ckT1qAosMY0w"
      },
      "execution_count": null,
      "outputs": []
    },
    {
      "cell_type": "code",
      "source": [
        "model.compile(loss=\"binary_crossentropy\",\n",
        "              optimizer=\"rmsprop\",\n",
        "              metrics=[\"accuracy\"])"
      ],
      "metadata": {
        "id": "8NgGZd25MtRR"
      },
      "execution_count": null,
      "outputs": []
    },
    {
      "cell_type": "code",
      "source": [
        "history = model.fit(train_dataset,\n",
        "                    epochs=100,\n",
        "                    callbacks=callbacks,\n",
        "                    validation_data=validation_dataset)"
      ],
      "metadata": {
        "colab": {
          "base_uri": "https://localhost:8080/"
        },
        "id": "_D8Z9tGOM0g1",
        "outputId": "5bd2bbd2-8951-410d-c694-da851bd28379"
      },
      "execution_count": null,
      "outputs": [
        {
          "output_type": "stream",
          "name": "stdout",
          "text": [
            "Epoch 1/100\n",
            "63/63 [==============================] - 19s 125ms/step - loss: 0.7107 - accuracy: 0.5215 - val_loss: 0.6892 - val_accuracy: 0.5230\n",
            "Epoch 2/100\n",
            "63/63 [==============================] - 7s 112ms/step - loss: 0.6878 - accuracy: 0.5695 - val_loss: 0.6500 - val_accuracy: 0.6160\n",
            "Epoch 3/100\n",
            "63/63 [==============================] - 7s 113ms/step - loss: 0.6753 - accuracy: 0.6065 - val_loss: 0.6689 - val_accuracy: 0.5260\n",
            "Epoch 4/100\n",
            "63/63 [==============================] - 7s 111ms/step - loss: 0.6448 - accuracy: 0.6610 - val_loss: 0.6212 - val_accuracy: 0.6550\n",
            "Epoch 5/100\n",
            "63/63 [==============================] - 7s 111ms/step - loss: 0.5958 - accuracy: 0.6785 - val_loss: 0.5840 - val_accuracy: 0.6760\n",
            "Epoch 6/100\n",
            "63/63 [==============================] - 7s 110ms/step - loss: 0.5601 - accuracy: 0.7020 - val_loss: 0.5746 - val_accuracy: 0.6840\n",
            "Epoch 7/100\n",
            "63/63 [==============================] - 7s 111ms/step - loss: 0.5492 - accuracy: 0.7200 - val_loss: 0.5702 - val_accuracy: 0.6970\n",
            "Epoch 8/100\n",
            "63/63 [==============================] - 7s 112ms/step - loss: 0.5060 - accuracy: 0.7530 - val_loss: 0.9903 - val_accuracy: 0.5910\n",
            "Epoch 9/100\n",
            "63/63 [==============================] - 7s 110ms/step - loss: 0.4582 - accuracy: 0.7790 - val_loss: 0.6019 - val_accuracy: 0.6960\n",
            "Epoch 10/100\n",
            "63/63 [==============================] - 7s 110ms/step - loss: 0.4368 - accuracy: 0.8065 - val_loss: 0.5736 - val_accuracy: 0.7100\n",
            "Epoch 11/100\n",
            "63/63 [==============================] - 7s 111ms/step - loss: 0.3874 - accuracy: 0.8250 - val_loss: 0.5664 - val_accuracy: 0.7370\n",
            "Epoch 12/100\n",
            "63/63 [==============================] - 7s 109ms/step - loss: 0.3509 - accuracy: 0.8430 - val_loss: 0.5691 - val_accuracy: 0.7170\n",
            "Epoch 13/100\n",
            "63/63 [==============================] - 7s 111ms/step - loss: 0.3107 - accuracy: 0.8670 - val_loss: 0.6082 - val_accuracy: 0.7440\n",
            "Epoch 14/100\n",
            "63/63 [==============================] - 7s 111ms/step - loss: 0.2663 - accuracy: 0.8850 - val_loss: 0.6180 - val_accuracy: 0.7350\n",
            "Epoch 15/100\n",
            "63/63 [==============================] - 7s 111ms/step - loss: 0.2183 - accuracy: 0.9075 - val_loss: 0.7878 - val_accuracy: 0.7060\n",
            "Epoch 16/100\n",
            "63/63 [==============================] - 7s 110ms/step - loss: 0.1887 - accuracy: 0.9255 - val_loss: 0.9429 - val_accuracy: 0.7190\n",
            "Epoch 17/100\n",
            "63/63 [==============================] - 7s 111ms/step - loss: 0.1715 - accuracy: 0.9325 - val_loss: 0.8700 - val_accuracy: 0.7380\n",
            "Epoch 18/100\n",
            "63/63 [==============================] - 7s 111ms/step - loss: 0.1638 - accuracy: 0.9310 - val_loss: 1.0126 - val_accuracy: 0.7390\n",
            "Epoch 19/100\n",
            "63/63 [==============================] - 7s 111ms/step - loss: 0.1067 - accuracy: 0.9610 - val_loss: 1.0172 - val_accuracy: 0.7510\n",
            "Epoch 20/100\n",
            "63/63 [==============================] - 7s 111ms/step - loss: 0.1258 - accuracy: 0.9495 - val_loss: 1.2979 - val_accuracy: 0.7420\n",
            "Epoch 21/100\n",
            "63/63 [==============================] - 7s 111ms/step - loss: 0.0914 - accuracy: 0.9625 - val_loss: 0.9948 - val_accuracy: 0.7650\n",
            "Epoch 22/100\n",
            "63/63 [==============================] - 7s 110ms/step - loss: 0.1088 - accuracy: 0.9650 - val_loss: 0.8890 - val_accuracy: 0.7400\n",
            "Epoch 23/100\n",
            "63/63 [==============================] - 7s 112ms/step - loss: 0.0923 - accuracy: 0.9680 - val_loss: 1.1080 - val_accuracy: 0.7730\n",
            "Epoch 24/100\n",
            "63/63 [==============================] - 7s 110ms/step - loss: 0.0703 - accuracy: 0.9750 - val_loss: 1.1576 - val_accuracy: 0.7820\n",
            "Epoch 25/100\n",
            "63/63 [==============================] - 7s 110ms/step - loss: 0.1010 - accuracy: 0.9695 - val_loss: 0.9631 - val_accuracy: 0.7620\n",
            "Epoch 26/100\n",
            "63/63 [==============================] - 7s 110ms/step - loss: 0.0666 - accuracy: 0.9755 - val_loss: 1.7179 - val_accuracy: 0.7310\n",
            "Epoch 27/100\n",
            "63/63 [==============================] - 7s 110ms/step - loss: 0.0652 - accuracy: 0.9795 - val_loss: 1.2142 - val_accuracy: 0.7560\n",
            "Epoch 28/100\n",
            "63/63 [==============================] - 7s 110ms/step - loss: 0.0823 - accuracy: 0.9730 - val_loss: 1.8188 - val_accuracy: 0.7230\n",
            "Epoch 29/100\n",
            "63/63 [==============================] - 7s 110ms/step - loss: 0.0693 - accuracy: 0.9780 - val_loss: 1.7165 - val_accuracy: 0.7260\n",
            "Epoch 30/100\n",
            "63/63 [==============================] - 7s 110ms/step - loss: 0.0588 - accuracy: 0.9840 - val_loss: 1.6643 - val_accuracy: 0.7270\n",
            "Epoch 31/100\n",
            "63/63 [==============================] - 7s 111ms/step - loss: 0.0768 - accuracy: 0.9710 - val_loss: 1.2729 - val_accuracy: 0.7710\n",
            "Epoch 32/100\n",
            "63/63 [==============================] - 7s 111ms/step - loss: 0.0475 - accuracy: 0.9840 - val_loss: 1.5974 - val_accuracy: 0.7830\n",
            "Epoch 33/100\n",
            "63/63 [==============================] - 7s 111ms/step - loss: 0.0618 - accuracy: 0.9805 - val_loss: 1.7526 - val_accuracy: 0.7510\n",
            "Epoch 34/100\n",
            "63/63 [==============================] - 7s 111ms/step - loss: 0.0775 - accuracy: 0.9770 - val_loss: 1.8321 - val_accuracy: 0.7350\n",
            "Epoch 35/100\n",
            "63/63 [==============================] - 7s 111ms/step - loss: 0.0543 - accuracy: 0.9820 - val_loss: 1.4891 - val_accuracy: 0.7690\n",
            "Epoch 36/100\n",
            "63/63 [==============================] - 7s 111ms/step - loss: 0.0536 - accuracy: 0.9845 - val_loss: 1.7311 - val_accuracy: 0.7510\n",
            "Epoch 37/100\n",
            "63/63 [==============================] - 7s 111ms/step - loss: 0.0513 - accuracy: 0.9865 - val_loss: 2.0601 - val_accuracy: 0.7380\n",
            "Epoch 38/100\n",
            "63/63 [==============================] - 7s 110ms/step - loss: 0.0519 - accuracy: 0.9810 - val_loss: 1.6185 - val_accuracy: 0.7790\n",
            "Epoch 39/100\n",
            "63/63 [==============================] - 7s 111ms/step - loss: 0.0423 - accuracy: 0.9860 - val_loss: 1.8903 - val_accuracy: 0.7850\n",
            "Epoch 40/100\n",
            "63/63 [==============================] - 7s 112ms/step - loss: 0.0350 - accuracy: 0.9910 - val_loss: 1.9757 - val_accuracy: 0.7700\n",
            "Epoch 41/100\n",
            "63/63 [==============================] - 7s 110ms/step - loss: 0.0496 - accuracy: 0.9855 - val_loss: 2.6476 - val_accuracy: 0.7630\n",
            "Epoch 42/100\n",
            "63/63 [==============================] - 7s 110ms/step - loss: 0.0693 - accuracy: 0.9850 - val_loss: 1.7548 - val_accuracy: 0.7810\n",
            "Epoch 43/100\n",
            "63/63 [==============================] - 7s 111ms/step - loss: 0.0441 - accuracy: 0.9835 - val_loss: 2.3161 - val_accuracy: 0.7550\n",
            "Epoch 44/100\n",
            "63/63 [==============================] - 7s 111ms/step - loss: 0.0587 - accuracy: 0.9870 - val_loss: 2.0122 - val_accuracy: 0.7770\n",
            "Epoch 45/100\n",
            "63/63 [==============================] - 7s 111ms/step - loss: 0.0462 - accuracy: 0.9850 - val_loss: 2.7432 - val_accuracy: 0.7150\n",
            "Epoch 46/100\n",
            "63/63 [==============================] - 7s 110ms/step - loss: 0.0663 - accuracy: 0.9805 - val_loss: 2.5661 - val_accuracy: 0.7660\n",
            "Epoch 47/100\n",
            "63/63 [==============================] - 7s 111ms/step - loss: 0.0651 - accuracy: 0.9840 - val_loss: 2.2534 - val_accuracy: 0.7390\n",
            "Epoch 48/100\n",
            "63/63 [==============================] - 7s 111ms/step - loss: 0.0752 - accuracy: 0.9860 - val_loss: 2.2850 - val_accuracy: 0.7690\n",
            "Epoch 49/100\n",
            "63/63 [==============================] - 7s 111ms/step - loss: 0.0704 - accuracy: 0.9865 - val_loss: 2.0833 - val_accuracy: 0.7650\n",
            "Epoch 50/100\n",
            "63/63 [==============================] - 7s 112ms/step - loss: 0.0239 - accuracy: 0.9930 - val_loss: 2.5035 - val_accuracy: 0.7670\n",
            "Epoch 51/100\n",
            "63/63 [==============================] - 7s 111ms/step - loss: 0.0594 - accuracy: 0.9845 - val_loss: 2.6175 - val_accuracy: 0.7780\n",
            "Epoch 52/100\n",
            "63/63 [==============================] - 7s 110ms/step - loss: 0.0665 - accuracy: 0.9840 - val_loss: 2.2896 - val_accuracy: 0.7570\n",
            "Epoch 53/100\n",
            "63/63 [==============================] - 7s 110ms/step - loss: 0.0479 - accuracy: 0.9865 - val_loss: 2.1014 - val_accuracy: 0.7560\n",
            "Epoch 54/100\n",
            "63/63 [==============================] - 7s 110ms/step - loss: 0.0710 - accuracy: 0.9860 - val_loss: 3.2426 - val_accuracy: 0.7390\n",
            "Epoch 55/100\n",
            "63/63 [==============================] - 7s 111ms/step - loss: 0.0403 - accuracy: 0.9890 - val_loss: 3.2246 - val_accuracy: 0.7520\n",
            "Epoch 56/100\n",
            "63/63 [==============================] - 7s 111ms/step - loss: 0.0567 - accuracy: 0.9885 - val_loss: 3.6361 - val_accuracy: 0.7350\n",
            "Epoch 57/100\n",
            "63/63 [==============================] - 7s 110ms/step - loss: 0.0557 - accuracy: 0.9875 - val_loss: 2.4088 - val_accuracy: 0.7720\n",
            "Epoch 58/100\n",
            "63/63 [==============================] - 7s 110ms/step - loss: 0.1067 - accuracy: 0.9820 - val_loss: 2.7111 - val_accuracy: 0.7340\n",
            "Epoch 59/100\n",
            "63/63 [==============================] - 7s 109ms/step - loss: 0.0437 - accuracy: 0.9905 - val_loss: 2.5784 - val_accuracy: 0.7650\n",
            "Epoch 60/100\n",
            "63/63 [==============================] - 7s 110ms/step - loss: 0.0530 - accuracy: 0.9900 - val_loss: 2.8377 - val_accuracy: 0.7600\n",
            "Epoch 61/100\n",
            "63/63 [==============================] - 7s 110ms/step - loss: 0.0902 - accuracy: 0.9860 - val_loss: 2.7540 - val_accuracy: 0.7770\n",
            "Epoch 62/100\n",
            "63/63 [==============================] - 7s 111ms/step - loss: 0.0171 - accuracy: 0.9955 - val_loss: 2.9850 - val_accuracy: 0.7580\n",
            "Epoch 63/100\n",
            "63/63 [==============================] - 7s 111ms/step - loss: 0.0520 - accuracy: 0.9875 - val_loss: 3.2043 - val_accuracy: 0.7640\n",
            "Epoch 64/100\n",
            "63/63 [==============================] - 7s 111ms/step - loss: 0.0692 - accuracy: 0.9875 - val_loss: 2.5194 - val_accuracy: 0.7790\n",
            "Epoch 65/100\n",
            "63/63 [==============================] - 7s 111ms/step - loss: 0.0304 - accuracy: 0.9895 - val_loss: 3.2865 - val_accuracy: 0.7740\n",
            "Epoch 66/100\n",
            "63/63 [==============================] - 7s 111ms/step - loss: 0.0567 - accuracy: 0.9870 - val_loss: 3.2886 - val_accuracy: 0.7470\n",
            "Epoch 67/100\n",
            "63/63 [==============================] - 7s 111ms/step - loss: 0.0335 - accuracy: 0.9900 - val_loss: 3.3300 - val_accuracy: 0.7710\n",
            "Epoch 68/100\n",
            "63/63 [==============================] - 7s 110ms/step - loss: 0.0752 - accuracy: 0.9865 - val_loss: 3.5211 - val_accuracy: 0.7410\n",
            "Epoch 69/100\n",
            "63/63 [==============================] - 7s 111ms/step - loss: 0.0348 - accuracy: 0.9895 - val_loss: 3.4572 - val_accuracy: 0.7630\n",
            "Epoch 70/100\n",
            "63/63 [==============================] - 7s 111ms/step - loss: 0.0487 - accuracy: 0.9885 - val_loss: 3.5189 - val_accuracy: 0.7690\n",
            "Epoch 71/100\n",
            "63/63 [==============================] - 7s 114ms/step - loss: 0.0694 - accuracy: 0.9875 - val_loss: 2.8295 - val_accuracy: 0.7910\n",
            "Epoch 72/100\n",
            "63/63 [==============================] - 7s 111ms/step - loss: 0.0645 - accuracy: 0.9865 - val_loss: 3.9110 - val_accuracy: 0.7580\n",
            "Epoch 73/100\n",
            "63/63 [==============================] - 7s 110ms/step - loss: 0.0401 - accuracy: 0.9935 - val_loss: 3.6073 - val_accuracy: 0.7480\n",
            "Epoch 74/100\n",
            "63/63 [==============================] - 7s 111ms/step - loss: 0.0872 - accuracy: 0.9860 - val_loss: 3.2420 - val_accuracy: 0.7730\n",
            "Epoch 75/100\n",
            "63/63 [==============================] - 7s 111ms/step - loss: 0.0511 - accuracy: 0.9880 - val_loss: 3.2929 - val_accuracy: 0.7520\n",
            "Epoch 76/100\n",
            "63/63 [==============================] - 7s 111ms/step - loss: 0.0168 - accuracy: 0.9940 - val_loss: 3.5101 - val_accuracy: 0.7730\n",
            "Epoch 77/100\n",
            "63/63 [==============================] - 7s 110ms/step - loss: 0.0691 - accuracy: 0.9885 - val_loss: 4.5056 - val_accuracy: 0.7540\n",
            "Epoch 78/100\n",
            "63/63 [==============================] - 7s 111ms/step - loss: 0.0928 - accuracy: 0.9885 - val_loss: 3.4462 - val_accuracy: 0.7500\n",
            "Epoch 79/100\n",
            "63/63 [==============================] - 7s 112ms/step - loss: 0.0665 - accuracy: 0.9900 - val_loss: 3.9481 - val_accuracy: 0.7760\n",
            "Epoch 80/100\n",
            "63/63 [==============================] - 7s 111ms/step - loss: 0.0485 - accuracy: 0.9895 - val_loss: 4.6511 - val_accuracy: 0.7530\n",
            "Epoch 81/100\n",
            "63/63 [==============================] - 7s 110ms/step - loss: 0.0649 - accuracy: 0.9895 - val_loss: 3.8072 - val_accuracy: 0.7630\n",
            "Epoch 82/100\n",
            "63/63 [==============================] - 7s 111ms/step - loss: 0.0536 - accuracy: 0.9910 - val_loss: 3.8207 - val_accuracy: 0.7460\n",
            "Epoch 83/100\n",
            "63/63 [==============================] - 7s 111ms/step - loss: 0.0749 - accuracy: 0.9895 - val_loss: 3.3436 - val_accuracy: 0.7780\n",
            "Epoch 84/100\n",
            "63/63 [==============================] - 7s 110ms/step - loss: 0.0455 - accuracy: 0.9920 - val_loss: 3.4595 - val_accuracy: 0.7560\n",
            "Epoch 85/100\n",
            "63/63 [==============================] - 7s 111ms/step - loss: 0.0841 - accuracy: 0.9875 - val_loss: 3.6754 - val_accuracy: 0.7760\n",
            "Epoch 86/100\n",
            "63/63 [==============================] - 7s 110ms/step - loss: 0.0432 - accuracy: 0.9910 - val_loss: 3.9775 - val_accuracy: 0.7610\n",
            "Epoch 87/100\n",
            "63/63 [==============================] - 7s 111ms/step - loss: 0.0635 - accuracy: 0.9910 - val_loss: 3.7317 - val_accuracy: 0.7720\n",
            "Epoch 88/100\n",
            "63/63 [==============================] - 7s 111ms/step - loss: 0.0575 - accuracy: 0.9915 - val_loss: 3.1289 - val_accuracy: 0.7660\n",
            "Epoch 89/100\n",
            "63/63 [==============================] - 7s 111ms/step - loss: 0.0849 - accuracy: 0.9885 - val_loss: 4.4223 - val_accuracy: 0.7160\n",
            "Epoch 90/100\n",
            "63/63 [==============================] - 7s 112ms/step - loss: 0.0493 - accuracy: 0.9915 - val_loss: 4.7955 - val_accuracy: 0.7360\n",
            "Epoch 91/100\n",
            "63/63 [==============================] - 7s 110ms/step - loss: 0.0706 - accuracy: 0.9895 - val_loss: 4.7832 - val_accuracy: 0.7340\n",
            "Epoch 92/100\n",
            "63/63 [==============================] - 7s 111ms/step - loss: 0.0929 - accuracy: 0.9860 - val_loss: 4.6695 - val_accuracy: 0.7370\n",
            "Epoch 93/100\n",
            "63/63 [==============================] - 7s 110ms/step - loss: 0.0523 - accuracy: 0.9930 - val_loss: 4.5800 - val_accuracy: 0.7700\n",
            "Epoch 94/100\n",
            "63/63 [==============================] - 7s 110ms/step - loss: 0.0794 - accuracy: 0.9900 - val_loss: 4.7554 - val_accuracy: 0.7300\n",
            "Epoch 95/100\n",
            "63/63 [==============================] - 7s 111ms/step - loss: 0.0971 - accuracy: 0.9870 - val_loss: 4.9199 - val_accuracy: 0.7520\n",
            "Epoch 96/100\n",
            "63/63 [==============================] - 7s 112ms/step - loss: 0.0610 - accuracy: 0.9900 - val_loss: 4.8240 - val_accuracy: 0.7510\n",
            "Epoch 97/100\n",
            "63/63 [==============================] - 8s 131ms/step - loss: 0.0212 - accuracy: 0.9970 - val_loss: 5.2926 - val_accuracy: 0.7460\n",
            "Epoch 98/100\n",
            "63/63 [==============================] - 7s 111ms/step - loss: 0.1123 - accuracy: 0.9890 - val_loss: 5.0574 - val_accuracy: 0.7450\n",
            "Epoch 99/100\n",
            "63/63 [==============================] - 7s 113ms/step - loss: 0.0635 - accuracy: 0.9885 - val_loss: 5.0089 - val_accuracy: 0.7500\n",
            "Epoch 100/100\n",
            "63/63 [==============================] - 7s 111ms/step - loss: 0.0727 - accuracy: 0.9905 - val_loss: 4.8140 - val_accuracy: 0.7600\n"
          ]
        }
      ]
    },
    {
      "cell_type": "code",
      "source": [
        "saved_model = keras.models.load_model(\"regularized_covnet_from_scratch.keras\")"
      ],
      "metadata": {
        "id": "72O1V8IuNBgm"
      },
      "execution_count": null,
      "outputs": []
    },
    {
      "cell_type": "code",
      "source": [
        "saved_model.evaluate(test_dataset)"
      ],
      "metadata": {
        "colab": {
          "base_uri": "https://localhost:8080/"
        },
        "id": "AXkXi0ClYRVi",
        "outputId": "588c6916-006a-4323-833e-6a29dd50b71c"
      },
      "execution_count": null,
      "outputs": [
        {
          "output_type": "stream",
          "name": "stdout",
          "text": [
            "63/63 [==============================] - 4s 48ms/step - loss: 0.5855 - accuracy: 0.7300\n"
          ]
        },
        {
          "output_type": "execute_result",
          "data": {
            "text/plain": [
              "[0.5855461359024048, 0.7300000190734863]"
            ]
          },
          "metadata": {},
          "execution_count": 18
        }
      ]
    },
    {
      "cell_type": "code",
      "source": [
        ""
      ],
      "metadata": {
        "id": "AHK41KKmXBeq"
      },
      "execution_count": null,
      "outputs": []
    },
    {
      "cell_type": "code",
      "source": [
        ""
      ],
      "metadata": {
        "id": "ikm_sfeaXBbR"
      },
      "execution_count": null,
      "outputs": []
    },
    {
      "cell_type": "code",
      "source": [
        ""
      ],
      "metadata": {
        "id": "-jFVfX6VXBY1"
      },
      "execution_count": null,
      "outputs": []
    },
    {
      "cell_type": "code",
      "source": [
        ""
      ],
      "metadata": {
        "id": "TeTrv4CUXBV3"
      },
      "execution_count": null,
      "outputs": []
    },
    {
      "cell_type": "code",
      "source": [
        ""
      ],
      "metadata": {
        "id": "ULMWTRJcXBTp"
      },
      "execution_count": null,
      "outputs": []
    },
    {
      "cell_type": "code",
      "source": [
        ""
      ],
      "metadata": {
        "id": "60UDPZ7ZXBQQ"
      },
      "execution_count": null,
      "outputs": []
    },
    {
      "cell_type": "code",
      "source": [
        ""
      ],
      "metadata": {
        "id": "pAIsTU9cXBNY"
      },
      "execution_count": null,
      "outputs": []
    },
    {
      "cell_type": "code",
      "source": [
        ""
      ],
      "metadata": {
        "id": "UpCHa4_cXBLR"
      },
      "execution_count": null,
      "outputs": []
    },
    {
      "cell_type": "code",
      "source": [
        ""
      ],
      "metadata": {
        "id": "fSzOUGVNXBIF"
      },
      "execution_count": null,
      "outputs": []
    },
    {
      "cell_type": "code",
      "source": [
        ""
      ],
      "metadata": {
        "id": "C1kgcAZ8XBFO"
      },
      "execution_count": null,
      "outputs": []
    },
    {
      "cell_type": "code",
      "source": [
        ""
      ],
      "metadata": {
        "id": "rmtZbsV_XBCX"
      },
      "execution_count": null,
      "outputs": []
    }
  ]
}