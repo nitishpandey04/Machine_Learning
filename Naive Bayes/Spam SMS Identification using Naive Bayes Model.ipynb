{
 "cells": [
  {
   "cell_type": "markdown",
   "id": "2cb6786f",
   "metadata": {},
   "source": [
    "## <center>SMS Binary Classification(Spam/Ham)</center>\n",
    "We use Multinomial Naive Bayes model to predict whether a given sms is spam or ham. We then build a Bernoulli Naive Bayes model and compare it with the Multinomial Naive Bayes model and choose the one which is giving higher specificity. We want to reduce the false positive rate so that's why we want the model with higher specificity. We were able to achieve 100 % specificity with Bernoulli Naive Bayes Classifier. "
   ]
  },
  {
   "cell_type": "code",
   "execution_count": 1,
   "id": "40e15824",
   "metadata": {},
   "outputs": [],
   "source": [
    "import numpy as np\n",
    "import pandas as pd\n",
    "import matplotlib.pyplot as plt\n",
    "import seaborn as sns\n",
    "import warnings \n",
    "warnings.filterwarnings('ignore')\n",
    "import sklearn\n",
    "import statsmodels.api as sm"
   ]
  },
  {
   "cell_type": "code",
   "execution_count": 22,
   "id": "1b12a543",
   "metadata": {},
   "outputs": [
    {
     "data": {
      "text/html": [
       "<div>\n",
       "<style scoped>\n",
       "    .dataframe tbody tr th:only-of-type {\n",
       "        vertical-align: middle;\n",
       "    }\n",
       "\n",
       "    .dataframe tbody tr th {\n",
       "        vertical-align: top;\n",
       "    }\n",
       "\n",
       "    .dataframe thead th {\n",
       "        text-align: right;\n",
       "    }\n",
       "</style>\n",
       "<table border=\"1\" class=\"dataframe\">\n",
       "  <thead>\n",
       "    <tr style=\"text-align: right;\">\n",
       "      <th></th>\n",
       "      <th>0</th>\n",
       "      <th>1</th>\n",
       "    </tr>\n",
       "  </thead>\n",
       "  <tbody>\n",
       "    <tr>\n",
       "      <th>0</th>\n",
       "      <td>ham</td>\n",
       "      <td>Go until jurong point, crazy.. Available only ...</td>\n",
       "    </tr>\n",
       "    <tr>\n",
       "      <th>1</th>\n",
       "      <td>ham</td>\n",
       "      <td>Ok lar... Joking wif u oni...</td>\n",
       "    </tr>\n",
       "    <tr>\n",
       "      <th>2</th>\n",
       "      <td>spam</td>\n",
       "      <td>Free entry in 2 a wkly comp to win FA Cup fina...</td>\n",
       "    </tr>\n",
       "    <tr>\n",
       "      <th>3</th>\n",
       "      <td>ham</td>\n",
       "      <td>U dun say so early hor... U c already then say...</td>\n",
       "    </tr>\n",
       "    <tr>\n",
       "      <th>4</th>\n",
       "      <td>ham</td>\n",
       "      <td>Nah I don't think he goes to usf, he lives aro...</td>\n",
       "    </tr>\n",
       "  </tbody>\n",
       "</table>\n",
       "</div>"
      ],
      "text/plain": [
       "      0                                                  1\n",
       "0   ham  Go until jurong point, crazy.. Available only ...\n",
       "1   ham                      Ok lar... Joking wif u oni...\n",
       "2  spam  Free entry in 2 a wkly comp to win FA Cup fina...\n",
       "3   ham  U dun say so early hor... U c already then say...\n",
       "4   ham  Nah I don't think he goes to usf, he lives aro..."
      ]
     },
     "execution_count": 22,
     "metadata": {},
     "output_type": "execute_result"
    }
   ],
   "source": [
    "doc = pd.read_csv(\"smsspamcollection.csv\", header=None)\n",
    "doc.head()"
   ]
  },
  {
   "cell_type": "markdown",
   "id": "5dd4ee6f",
   "metadata": {},
   "source": [
    "### Data Preparation"
   ]
  },
  {
   "cell_type": "code",
   "execution_count": 23,
   "id": "8291e848",
   "metadata": {},
   "outputs": [],
   "source": [
    "doc[\"sms\"] = doc[1]\n",
    "doc.drop(columns=1, inplace=True)\n",
    "doc[\"label\"] = doc[0]\n",
    "doc.drop(columns=0, inplace=True)"
   ]
  },
  {
   "cell_type": "code",
   "execution_count": 26,
   "id": "6e51d735",
   "metadata": {},
   "outputs": [],
   "source": [
    "doc.label = doc.label.apply(lambda x : 1 if x == \"spam\" else 0)"
   ]
  },
  {
   "cell_type": "code",
   "execution_count": 27,
   "id": "b8506641",
   "metadata": {},
   "outputs": [
    {
     "data": {
      "text/html": [
       "<div>\n",
       "<style scoped>\n",
       "    .dataframe tbody tr th:only-of-type {\n",
       "        vertical-align: middle;\n",
       "    }\n",
       "\n",
       "    .dataframe tbody tr th {\n",
       "        vertical-align: top;\n",
       "    }\n",
       "\n",
       "    .dataframe thead th {\n",
       "        text-align: right;\n",
       "    }\n",
       "</style>\n",
       "<table border=\"1\" class=\"dataframe\">\n",
       "  <thead>\n",
       "    <tr style=\"text-align: right;\">\n",
       "      <th></th>\n",
       "      <th>sms</th>\n",
       "      <th>label</th>\n",
       "    </tr>\n",
       "  </thead>\n",
       "  <tbody>\n",
       "    <tr>\n",
       "      <th>0</th>\n",
       "      <td>Go until jurong point, crazy.. Available only ...</td>\n",
       "      <td>0</td>\n",
       "    </tr>\n",
       "    <tr>\n",
       "      <th>1</th>\n",
       "      <td>Ok lar... Joking wif u oni...</td>\n",
       "      <td>0</td>\n",
       "    </tr>\n",
       "    <tr>\n",
       "      <th>2</th>\n",
       "      <td>Free entry in 2 a wkly comp to win FA Cup fina...</td>\n",
       "      <td>1</td>\n",
       "    </tr>\n",
       "    <tr>\n",
       "      <th>3</th>\n",
       "      <td>U dun say so early hor... U c already then say...</td>\n",
       "      <td>0</td>\n",
       "    </tr>\n",
       "    <tr>\n",
       "      <th>4</th>\n",
       "      <td>Nah I don't think he goes to usf, he lives aro...</td>\n",
       "      <td>0</td>\n",
       "    </tr>\n",
       "  </tbody>\n",
       "</table>\n",
       "</div>"
      ],
      "text/plain": [
       "                                                 sms  label\n",
       "0  Go until jurong point, crazy.. Available only ...      0\n",
       "1                      Ok lar... Joking wif u oni...      0\n",
       "2  Free entry in 2 a wkly comp to win FA Cup fina...      1\n",
       "3  U dun say so early hor... U c already then say...      0\n",
       "4  Nah I don't think he goes to usf, he lives aro...      0"
      ]
     },
     "execution_count": 27,
     "metadata": {},
     "output_type": "execute_result"
    }
   ],
   "source": [
    "doc.head()"
   ]
  },
  {
   "cell_type": "markdown",
   "id": "8ef888e2",
   "metadata": {},
   "source": [
    "#### Train Test Split"
   ]
  },
  {
   "cell_type": "code",
   "execution_count": 28,
   "id": "35be7240",
   "metadata": {},
   "outputs": [
    {
     "name": "stdout",
     "output_type": "stream",
     "text": [
      "(4179, 2)\n",
      "(1393, 2)\n"
     ]
    }
   ],
   "source": [
    "from sklearn.model_selection import train_test_split\n",
    "\n",
    "train_df, test_df = train_test_split(doc, random_state=100)\n",
    "\n",
    "print(train_df.shape)\n",
    "print(test_df.shape)"
   ]
  },
  {
   "cell_type": "code",
   "execution_count": 30,
   "id": "eafac239",
   "metadata": {},
   "outputs": [],
   "source": [
    "x_train = train_df.sms\n",
    "y_train = train_df.label\n",
    "x_test = test_df.sms\n",
    "y_test = test_df.label"
   ]
  },
  {
   "cell_type": "markdown",
   "id": "48e0e9cc",
   "metadata": {},
   "source": [
    "#### Bag of words representation"
   ]
  },
  {
   "cell_type": "code",
   "execution_count": 42,
   "id": "07c0f521",
   "metadata": {},
   "outputs": [
    {
     "data": {
      "text/plain": [
       "CountVectorizer(stop_words='english')"
      ]
     },
     "execution_count": 42,
     "metadata": {},
     "output_type": "execute_result"
    }
   ],
   "source": [
    "from sklearn.feature_extraction.text import CountVectorizer\n",
    "\n",
    "vc = CountVectorizer(stop_words=\"english\")\n",
    "\n",
    "vc.fit(x_train)"
   ]
  },
  {
   "cell_type": "code",
   "execution_count": 43,
   "id": "49f068a5",
   "metadata": {},
   "outputs": [
    {
     "data": {
      "text/plain": [
       "7233"
      ]
     },
     "execution_count": 43,
     "metadata": {},
     "output_type": "execute_result"
    }
   ],
   "source": [
    "len(vc.vocabulary_.keys())"
   ]
  },
  {
   "cell_type": "code",
   "execution_count": 45,
   "id": "56076f1a",
   "metadata": {},
   "outputs": [],
   "source": [
    "x_train_tf = vc.transform(x_train)\n",
    "x_test_tf = vc.transform(x_test)"
   ]
  },
  {
   "cell_type": "markdown",
   "id": "354f5654",
   "metadata": {},
   "source": [
    "CountVectorizer by default gives the data in compressed sparse row matrix format instead of multi hot encoding due to large vocabulary size making each sample equal to the size of vocabulary. This format makes us save resources while have the same performance."
   ]
  },
  {
   "cell_type": "code",
   "execution_count": 51,
   "id": "86a4e86a",
   "metadata": {},
   "outputs": [
    {
     "name": "stdout",
     "output_type": "stream",
     "text": [
      "  (0, 793)\t1\n",
      "  (0, 1835)\t1\n",
      "  (0, 1868)\t1\n",
      "  (0, 3492)\t1\n",
      "  (0, 3511)\t1\n",
      "  (0, 4220)\t1\n",
      "  (0, 5651)\t1\n",
      "  (0, 6351)\t1\n",
      "  (1, 1140)\t1\n",
      "  (1, 2247)\t1\n",
      "  (1, 2269)\t1\n",
      "  (1, 2388)\t2\n",
      "  (1, 2987)\t1\n",
      "  (1, 3057)\t2\n",
      "  (1, 3118)\t1\n",
      "  (1, 3119)\t1\n",
      "  (1, 3364)\t1\n",
      "  (1, 3419)\t1\n",
      "  (1, 3526)\t1\n",
      "  (1, 3547)\t1\n",
      "  (1, 3641)\t1\n",
      "  (1, 3661)\t1\n",
      "  (1, 3992)\t2\n",
      "  (1, 4056)\t1\n",
      "  (1, 4093)\t1\n",
      "  :\t:\n",
      "  (4174, 5337)\t1\n",
      "  (4174, 6136)\t1\n",
      "  (4174, 6320)\t1\n",
      "  (4174, 6491)\t1\n",
      "  (4174, 6731)\t1\n",
      "  (4175, 1552)\t1\n",
      "  (4175, 1789)\t1\n",
      "  (4175, 2027)\t1\n",
      "  (4175, 3008)\t1\n",
      "  (4175, 3820)\t1\n",
      "  (4176, 1661)\t1\n",
      "  (4176, 3032)\t1\n",
      "  (4176, 3567)\t1\n",
      "  (4176, 3625)\t1\n",
      "  (4176, 4238)\t1\n",
      "  (4176, 4303)\t1\n",
      "  (4176, 5245)\t1\n",
      "  (4176, 5613)\t1\n",
      "  (4177, 2360)\t1\n",
      "  (4177, 3581)\t1\n",
      "  (4177, 3940)\t1\n",
      "  (4177, 6248)\t1\n",
      "  (4178, 789)\t1\n",
      "  (4178, 3148)\t1\n",
      "  (4178, 5414)\t1\n"
     ]
    }
   ],
   "source": [
    "print(x_train_tf)"
   ]
  },
  {
   "cell_type": "code",
   "execution_count": 52,
   "id": "666f69ef",
   "metadata": {},
   "outputs": [
    {
     "data": {
      "text/plain": [
       "array([[0, 0, 0, ..., 0, 0, 0],\n",
       "       [0, 0, 0, ..., 0, 0, 0],\n",
       "       [0, 0, 0, ..., 0, 0, 0],\n",
       "       ...,\n",
       "       [0, 0, 0, ..., 0, 0, 0],\n",
       "       [0, 0, 0, ..., 0, 0, 0],\n",
       "       [0, 0, 0, ..., 0, 0, 0]], dtype=int64)"
      ]
     },
     "execution_count": 52,
     "metadata": {},
     "output_type": "execute_result"
    }
   ],
   "source": [
    "x_train_tf.toarray()"
   ]
  },
  {
   "cell_type": "code",
   "execution_count": 53,
   "id": "cfdc1b51",
   "metadata": {},
   "outputs": [
    {
     "data": {
      "text/plain": [
       "(4179, 7233)"
      ]
     },
     "execution_count": 53,
     "metadata": {},
     "output_type": "execute_result"
    }
   ],
   "source": [
    "x_train_tf.shape"
   ]
  },
  {
   "cell_type": "markdown",
   "id": "a209b7c1",
   "metadata": {},
   "source": [
    "There are 4179 samples, each sample is a vector of 7233 dimensions, where each index denotes a unique word in all the train documents combined, the word which exists in a particular sample have value of 1 and 0 if it is not present in the document. We use the compressed sparse row matrix form instead of array form to save space"
   ]
  },
  {
   "cell_type": "markdown",
   "id": "5ea3b647",
   "metadata": {},
   "source": [
    "### Multinomial Naive Bayes"
   ]
  },
  {
   "cell_type": "code",
   "execution_count": 56,
   "id": "2efdd546",
   "metadata": {},
   "outputs": [
    {
     "data": {
      "text/plain": [
       "array([[9.98648712e-01, 1.35128797e-03],\n",
       "       [1.00000000e+00, 7.45551335e-12],\n",
       "       [9.99999930e-01, 7.04435379e-08],\n",
       "       ...,\n",
       "       [9.99996580e-01, 3.42012665e-06],\n",
       "       [9.96215264e-01, 3.78473575e-03],\n",
       "       [9.99557836e-01, 4.42163926e-04]])"
      ]
     },
     "execution_count": 56,
     "metadata": {},
     "output_type": "execute_result"
    }
   ],
   "source": [
    "from sklearn.naive_bayes import MultinomialNB\n",
    "\n",
    "mnb = MultinomialNB()\n",
    "\n",
    "mnb.fit(x_train_tf, y_train)\n",
    "\n",
    "y_train_pred = mnb.predict(x_train_tf)\n",
    "\n",
    "mnb.predict_proba(x_train_tf)"
   ]
  },
  {
   "cell_type": "markdown",
   "id": "c870019d",
   "metadata": {},
   "source": [
    "#### Laplace Smoothing\n",
    "In order to prevent zeroeing out of probabilities, we use laplace smoothing which means that we increase the count of every word by one and consequently total count by the number of words so that the internal relation of probabilities remain the same, only the posterior probability is prevented from becoming zero."
   ]
  },
  {
   "cell_type": "code",
   "execution_count": 61,
   "id": "596c7aea",
   "metadata": {},
   "outputs": [
    {
     "data": {
      "text/plain": [
       "1.0"
      ]
     },
     "execution_count": 61,
     "metadata": {},
     "output_type": "execute_result"
    }
   ],
   "source": [
    "mnb.alpha # laplace smoothing"
   ]
  },
  {
   "cell_type": "markdown",
   "id": "4e90dbaa",
   "metadata": {},
   "source": [
    "### Model Evaluation"
   ]
  },
  {
   "cell_type": "code",
   "execution_count": 85,
   "id": "6d3a849e",
   "metadata": {},
   "outputs": [],
   "source": [
    "y_test_pred = mnb.predict(x_test_tf)\n",
    "y_test_pred_proba = mnb.predict_proba(x_test_tf)"
   ]
  },
  {
   "cell_type": "code",
   "execution_count": 86,
   "id": "071b3296",
   "metadata": {},
   "outputs": [
    {
     "name": "stdout",
     "output_type": "stream",
     "text": [
      "Accuracy = 98.5 %\n"
     ]
    }
   ],
   "source": [
    "from sklearn import metrics\n",
    "\n",
    "acc = metrics.accuracy_score(y_test, y_test_pred)\n",
    "\n",
    "print(\"Accuracy =\", round(acc, 3)*100, \"%\")"
   ]
  },
  {
   "cell_type": "code",
   "execution_count": 87,
   "id": "c5ef7dc7",
   "metadata": {},
   "outputs": [
    {
     "data": {
      "text/plain": [
       "array([[1197,    9],\n",
       "       [  12,  175]], dtype=int64)"
      ]
     },
     "execution_count": 87,
     "metadata": {},
     "output_type": "execute_result"
    }
   ],
   "source": [
    "cm = metrics.confusion_matrix(y_test, y_test_pred)\n",
    "cm"
   ]
  },
  {
   "cell_type": "code",
   "execution_count": 88,
   "id": "799d9511",
   "metadata": {},
   "outputs": [],
   "source": [
    "tn = cm[0, 0]\n",
    "tp = cm[1, 1]\n",
    "fn = cm[1, 0]\n",
    "fp = cm[0, 1]"
   ]
  },
  {
   "cell_type": "code",
   "execution_count": 89,
   "id": "b1ee4557",
   "metadata": {},
   "outputs": [
    {
     "name": "stdout",
     "output_type": "stream",
     "text": [
      "Sensitivity = 0.936\n"
     ]
    }
   ],
   "source": [
    "sn = 1.0 * tp / (tp + fn)\n",
    "print(\"Sensitivity =\", round(sn, 3))"
   ]
  },
  {
   "cell_type": "code",
   "execution_count": 90,
   "id": "14e90ebc",
   "metadata": {},
   "outputs": [
    {
     "name": "stdout",
     "output_type": "stream",
     "text": [
      "Specificity = 0.993\n"
     ]
    }
   ],
   "source": [
    "sp = 1.0 * tn / (tn + fp)\n",
    "print(\"Specificity =\", round(sp, 3))"
   ]
  },
  {
   "cell_type": "markdown",
   "id": "38e170d7",
   "metadata": {},
   "source": [
    "Specificity is the ratio of correctly predicted hams to total hams so our goal is to increase the specificity or decrease the false positive rate which is 1 - specificity. With 0.993 specificity, in 100 sms, the model will predict 0.7 ham sms as spam."
   ]
  },
  {
   "cell_type": "code",
   "execution_count": 91,
   "id": "02faed61",
   "metadata": {},
   "outputs": [
    {
     "name": "stdout",
     "output_type": "stream",
     "text": [
      "Precision = 0.951\n"
     ]
    }
   ],
   "source": [
    "pc = metrics.precision_score(y_test, y_test_pred)\n",
    "print(\"Precision =\", round(pc, 3))"
   ]
  },
  {
   "cell_type": "code",
   "execution_count": 92,
   "id": "763583e1",
   "metadata": {},
   "outputs": [
    {
     "name": "stdout",
     "output_type": "stream",
     "text": [
      "Recall = 0.936\n"
     ]
    }
   ],
   "source": [
    "rc = metrics.recall_score(y_test, y_test_pred)\n",
    "print(\"Recall =\", round(rc, 3))"
   ]
  },
  {
   "cell_type": "code",
   "execution_count": 100,
   "id": "84fff5c8",
   "metadata": {},
   "outputs": [
    {
     "data": {
      "image/png": "[encoded data removed]",
      "text/plain": [
       "<Figure size 432x288 with 1 Axes>"
      ]
     },
     "metadata": {
      "needs_background": "light"
     },
     "output_type": "display_data"
    }
   ],
   "source": [
    "fpr, tpr, thresholds = metrics.roc_curve(y_test, y_test_pred_proba[:, 1])\n",
    "\n",
    "rc = pd.DataFrame({\"Threshold\":thresholds, \"FPR\":fpr, \"TPR\":tpr})\n",
    "plt.title(\"ROC Curve\")\n",
    "sns.lineplot(x=\"FPR\", y=\"TPR\", data=rc)\n",
    "plt.show()"
   ]
  },
  {
   "cell_type": "markdown",
   "id": "e0ecd448",
   "metadata": {},
   "source": [
    "### Bernoulli Naive Bayes"
   ]
  },
  {
   "cell_type": "code",
   "execution_count": 106,
   "id": "7c969dec",
   "metadata": {},
   "outputs": [],
   "source": [
    "from sklearn.naive_bayes import BernoulliNB\n",
    "\n",
    "bnb = BernoulliNB()\n",
    "\n",
    "bnb.fit(x_train_tf, y_train)\n",
    "\n",
    "y_train_pred = bnb.predict(x_train_tf)\n",
    "\n",
    "y_train_pred_proba = bnb.predict_proba(x_train_tf)"
   ]
  },
  {
   "cell_type": "code",
   "execution_count": 107,
   "id": "4900f81d",
   "metadata": {},
   "outputs": [],
   "source": [
    "y_test_pred = bnb.predict(x_test_tf)\n",
    "y_test_pred_proba = bnb.predict_proba(x_test_tf)"
   ]
  },
  {
   "cell_type": "code",
   "execution_count": 108,
   "id": "5358413f",
   "metadata": {},
   "outputs": [
    {
     "name": "stdout",
     "output_type": "stream",
     "text": [
      "Accuracy = 97.39999999999999 %\n"
     ]
    }
   ],
   "source": [
    "acc_2 = metrics.accuracy_score(y_test, y_test_pred)\n",
    "print(\"Accuracy =\", round(acc_2, 3) * 100, \"%\")"
   ]
  },
  {
   "cell_type": "code",
   "execution_count": 111,
   "id": "22a222c9",
   "metadata": {},
   "outputs": [
    {
     "data": {
      "text/plain": [
       "array([[1205,    1],\n",
       "       [  35,  152]], dtype=int64)"
      ]
     },
     "execution_count": 111,
     "metadata": {},
     "output_type": "execute_result"
    }
   ],
   "source": [
    "cm_2 = metrics.confusion_matrix(y_test, y_test_pred)\n",
    "cm_2"
   ]
  },
  {
   "cell_type": "code",
   "execution_count": 112,
   "id": "f660ab11",
   "metadata": {},
   "outputs": [],
   "source": [
    "tp = cm_2[1, 1]\n",
    "fp = cm_2[0, 1]\n",
    "fn = cm_2[1, 0]\n",
    "tn = cm_2[0, 0]"
   ]
  },
  {
   "cell_type": "code",
   "execution_count": 113,
   "id": "e02a7c61",
   "metadata": {},
   "outputs": [
    {
     "name": "stdout",
     "output_type": "stream",
     "text": [
      "Sensitivity = 0.813\n"
     ]
    }
   ],
   "source": [
    "sn_2 = 1.0 * tp / (tp + fn)\n",
    "print(\"Sensitivity =\", round(sn_2, 3))"
   ]
  },
  {
   "cell_type": "code",
   "execution_count": 118,
   "id": "78b18c1a",
   "metadata": {},
   "outputs": [
    {
     "name": "stdout",
     "output_type": "stream",
     "text": [
      "Specificity = 1.0\n"
     ]
    }
   ],
   "source": [
    "sp_2 = 1.0 * tn / (tn * fp)\n",
    "print(\"Specificity =\", sp_2)"
   ]
  },
  {
   "cell_type": "markdown",
   "id": "f7837bc2",
   "metadata": {},
   "source": [
    "Specificity for Bernoulli Naive Bayes is perfect, which means it categorizes all the ham sms as ham for test dataset. So, for the business use case, BNB is better."
   ]
  },
  {
   "cell_type": "code",
   "execution_count": null,
   "id": "a999e371",
   "metadata": {},
   "outputs": [],
   "source": []
  }
 ],
 "metadata": {
  "kernelspec": {
   "display_name": "Python 3",
   "language": "python",
   "name": "python3"
  },
  "language_info": {
   "codemirror_mode": {
    "name": "ipython",
    "version": 3
   },
   "file_extension": ".py",
   "mimetype": "text/x-python",
   "name": "python",
   "nbconvert_exporter": "python",
   "pygments_lexer": "ipython3",
   "version": "3.8.8"
  }
 },
 "nbformat": 4,
 "nbformat_minor": 5
}
