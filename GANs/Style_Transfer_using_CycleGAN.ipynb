{
 "cells": [
  {
   "cell_type": "markdown",
   "metadata": {
    "id": "8nTYVp1U1LIP"
   },
   "source": [
    "## MNIST Digit Conversion from 4 to 9 using CycleGAN"
   ]
  },
  {
   "cell_type": "markdown",
   "metadata": {
    "id": "D2ctNDar1LIR"
   },
   "source": [
    "* In this Notebook we'll convert digit 4 to digit 9 and vice versa using Cycle GAN Network.\n",
    "* We'll use MNIST dataset for this project.\n",
    "* Below is the result that we want to achieve using CycleGANs."
   ]
  },
  {
   "cell_type": "markdown",
   "metadata": {
    "id": "jvc-lwGi1LIS"
   },
   "source": [
    "<center>Conversion of 4 to 9</center>"
   ]
  },
  {
   "cell_type": "markdown",
   "metadata": {
    "id": "9I1h8e_21LIS"
   },
   "source": [
    "<center>\n",
    "\n",
    "![4to9.png](data:image/png;base64,iVBORw0KGgoAAAANSUhEUgAAAOgAAACDCAIAAAAI+MC2AAAAAXNSR0IArs4c6QAAAARnQU1BAACxjwv8YQUAAAAJcEhZcwAADsMAAA7DAcdvqGQAABSiSURBVHhe7Z1pcBVVm4C99yYhCRB2BEUFZdOkEBUVlQLHHVdwcKGUQooRUVxLQC21ENHhww0dLB0RRMXCQkdlcEFGRSGCCgglKIIwENEJqBAcIhJBzLzc85ye/khzuSfdN8vH+/zq2+m3l/c8ffr06dOdQyoVpR6i4ir1EhVXqZeouEq9RMVV6iUqrlIvUXHrMYMHD7733ntlYsGCBZ07dzYzI+GQQw5Zu3YtP+okYcU96qijPvjgA36EZsyYMddccw0//p5oN1TryOHk5uY2bNiwdevW4l95eTl/cMETNzXTpk0744wz+JEegeL26dPn+eef50dto+LWDt7h/Pjjj4WFhXfddZeZb9i9ezdTKVFxq49XACY7d955Z9OmTdu3b//ee++ZBeRo77777pNPPrlx48aXXnrp1q1bZebHH398+OGHmwUEs5I5c+ZkZ2dnZWVJPdStWzf+ZvFv6PTTT7/99tubNGnSoUOHhQsXypx27dq1atXqxRdfNAu/88473bt3ly3KfDkZzEzhpZdeOvLII5s3b/7ggw96K9yzZ8/48eOPPvpomX/FFVeYPcw03taFkSNHXnTRRTIhujz99NMdO3aUBMrPt99++/jjj5fDPO2007766qvkspXLli074YQTGjVqdOWVV1511VVGXH8+N27c2L9//5YtW8rhjBgxYtWqVQ0aNIjH45JVWZUsUFFRIcV0xBFHSGV/ww03/P777ybwkUceadOmTdu2badOnZpaXLO5CRMmSM4l5K233nr33Xc7derUrFmzhx9+2Cz8xRdf9OzZU7YoC8hu/PHHH2b+3LlzpVVTUFBw44039u7d2zsTZKNdu3YVec4777ySkhIzMwVRiivOTZ48+c8//3zmmWfk+P/66y+ZL0d72GGHrVy58rfffrv88stNhRoorkykU+PKhhKJxAsvvCAbkmKTArjpppukMCQjUpzmmivrX7FihRgp5S3FI5mVmd98840UXnFxsSRRSk721qzwySefPPXUU3/44QdZybBhw66++mqZmWm8wxHPjjvuuPvuu0+mRZdzzjlHzhyRSQQVLT7//HM5TDkhZXnZPdlzOfGeeOKJXbt2vf7663II+4grC8s5L2e1ZHvnzp1ysDLT1CkyYZC/XnLJJbKV7du3X3zxxVKtyEypNSRRppgGDhx4QHGlCMaOHSu7ISUuJ4mEyNq+/vpraf+sX79ellm6dOlnn30ml44NGzaIkRMnTpSZv/zyi9Qmb7zxhsyXtMv+mxXOmjXrmGOOkXNM5o8bN05OVJmZmijFlW2bmTt27JAj37Rpk0zL0XrXQVFH6lRJbkhxpU4yM8VO2dDmzZvNT6ljli9fbqY9brvtNikqmZBEe1LKHsqemBVKWj/88EMzv7S0VLKZ5pU6DHI4pgoUEaXuMdWeHMtHH31kFhg+fLix2SC11CeffDJ//nyvRhCkgPcRd9GiRaLRPvvvF1di8/Pz161bZ37K8qZ2HzJkiFdMa9asOaC4IqiUo0yLr7KwnGDJRSpPPPFEU034EWv79esnE3LFk2rYzJQ9keuhWeEFF1wwZcoUM1+qm7y8vANWuhE3FcxMwTtyOVq5/JmZcjYbz0KK621INiErNNOCrNPUMZLHM888U4pQLklyobz22mtlplwWR40alVxwL3IJMyuUNEk1IA4ZZHlpd5plMod3OH7kWL777jsz3bdvX9kx9qlJE5meMWPGq6++2qNHD7OAIOfhPuLOnDnzpJNOSv7x//Fn7KeffpKtsNImTSQ/cv7I/PPPP98rJqnaveLz4xfXKz45SWRhqVbNT9nQ9OnTZULsl/bPoYceKrmVne/Vq5fMlCaZNMaSC+5FJDYrPPbYY81pbJCzQlqAZpn9URPieqeyXAtMjbt48WJpD5mZ8lPqALOSBx54IBJxpcEq11O5Vsq01LhmnbJyuaLtXa6yUmo4r8aVyuzTTz8182uM/Ynr6SKNloceeshMe0il669xpa1ftcaVBsY+Na60NLyMmfqs6pl53XXXecUkJ094cc866yxpj0l9LNNS45odkD3xmgH+Glfata+88oqZnyY1Ia4cpDQS5Oo8YMAAo86vv/4q6ZNbKGkkiU/SYDIrefbZZ2Ulkty9q/h7nMT1btTkFkGmjbjSApNGsJzK0lIcPXq018YVxWUnzbXp559/lvaWTGSaA4q7ZMkSKVe5dEgBy5VKciUSyJ5Lm15ah5I3aSnur40rxpg2rjkhpf0qm/Nuj2699Vap9qTqlWkx+P3335cJuZmW2tEUk6QrvLhyOy5tM9n5b7/9VqoGU2TSxpUikLaERE2aNMlr47755puFhYVSQDItbrz22msykZqaENfrVZBbAdl1s4AsLxdrserRRx/1VrJlyxZZidxayo2zWczDSVy5cZG2o+RIrlZyS+vV4hIrBW96FeSWccGCBTJTzpPHH39ckivLS1V9zz33mIUzygHFFUQ4aRjIpVMSJee8qb1E6O7du8uuXplkH3GF77///rLLLpNjbNGixS233CJzRNkLL7xQLnEyR36K0HKMHTp0kBKR9v1TTz2VjNt7HRd30+9VMDP3J640x7t06SINAGkk3H///V6RyUF16tTJ9CpIU+Hll18282WiqKhIdklOV2lwm5kpCCvuAfGOtk5RXl4u1by5/1VqBakv5CSZN28evx05uMSdPXu2XArlMio3alJveY1FpcaQlsm2bdvk/m/cuHFyJfF6kV05uMQdOnSoXHnlOiW3DqtXr2auUoOMGTNGmjHS1DnllFO8TrRqkHFxFSUTqLhKvUTFVeol+xX3ECUNSJY7MQsrUnyQmliMZAWh4oaCZLlDyai4QZAaFTdzkCx3iFdSQrKCUHFDQbLcIV5JCckKQsUNBclyh3glJSQrCBU3FCTLHeKVlJCsIFTcUJAsd4hXUkKyglBxQ0Gy3CFeSQnJCkLFDQXJcod4JSUkKwgVNxQkyx3ilZSQrCBU3FCQLHeIV1JCsoJQcUNBstwhXkkJyQpCxQ0FyXKHeCUlJCsIFTcUJMsd4pWUkKwgalTcbAtjKDI5xCTP0tFynqWfj76WdpaEhRWlhGS5Q/w/OhSzD/6QHiQrCBUX0FbFjRSK2Qd/SA+SFYSKC2ir4kYKxeyDP6QHyQoiU+Kym7FYWx/dLc0sLB0dcctxlicspZb/9VFiudrSyMIaU0Ky3CE+w1AGsRhJ8cEfgv7kwRKxGKdyIsEf4nFqIF8d5JHlgzBfIAulZzDJCkLFBbRVcX2whIqLtiquilvXxGWnYrGmlid9zLf0sRAWHWy1adNhlnLL75aZPiZb/smCtvVQXFTKzs63FFiSH0HcS2NLgyoQ7CPHwloKCtpY2ltYXePGqOqTVWBF2dloq+LuD7aq4iZBNxX3gLBTKu6BID5ScETFrQYtLLdZynyss5xtISw66Nzq23ehBW3Ly+dYyH0SSjg/n6xnZbGi9CBZ7hBfXSj8WAx9ktxtmW2ZZPnIQs0xf/4nFhadPXuR5QvLYgv3ASUl6y3Flv4WDM3OZhejgGQFoeIC2qq4Kq4BZ5OgrYqr4qYHyQpCxQW0VXEPTnG7WjZY9viYbimyEBYdPMnt12+ZBW3Ly2dZuPlKQlh1IVnuEO8IamRn8xS7Y8ePfWy2cMDl5Sssyy2rLWstlNOGDVss/N6wAW0XLyZ4+XJ6wktLSe6yZVMtPGHPy2Nfo4BkBaHihoJkuUO8I2ir4qq4hFUXkuUO8Y6grYoblbjNLddZUHXPnl0+Bll44JuBR75o6xN3u4We25kzG/ogrLqQLHeID4LWqw86RROJQstcC1lOwp1EWdnblokWKozp08daRliGW1h04sQxlsEWFh0xAtnXrqXNW1KyxNLKwmFEAckKQsUNBclyh/ggsNUH2qq4PlTcUJAsd4gPAlt9oK2K6yMacWnYdu06xbLbQqdLEhq2RUWUQ3qDtZ1AW5+4mywjLTziTEJYdSFZ7hAfBLb6hllhRKtW/26hDVtevtXH9ZbeFgbjde9O3ouKWltYY6tWPMwtKKAuadaM5n+jRpzcDRseZfkPC83hLVs4V8rKelh4tpuEQ6ouJCsIFTcUJMsd4oNAWxVXxTWgrYqbhDUenOKS16wsnoOdffaXlp2W0T5aWoiPDkYx5eQMtdAEKylZY6Ewe/dmp5MQX11IljvEB8E5nUjkWmhpDh7Mg8d16yos1BNJeGmuXTuOLSWYlXK0uAdPF/PzaQ4PH06vWGnpRgtVV9eurC4Jh1RdSFYQKm4oSJY7xAeBPiquimtAWxU3CUoenOLyqCQvb4CFoykt3WHBoySM8W7alPjooMTatXvEQsFWVNBbk/wv+gaSmoT46kKy3CE+CPYsFuMpWXY2yR0wgCdavqdcnX1gWeiWJZv3vY5Gm7dRI7ozBw2iV2ztWsbaFBdTJ7VsSUwS1lhdSFYQKm4oSJY7xAfBnqm4Kq6BJVTcA8Hm/4HFpV2Zk3O+hTEdK1b8YaH9leQIC/HRca7lPQvdReXljDadPZtFI4VkuUN8SmhyJhK8oNenz0oLx1ZefroPZMmAuAyybtGCZ2sTJzKcZ/NmtC0upk5q2pTgJKyxupCsIFTcUJAsd4hPCdqquEGouKEgWe4QnxK0VXGDCCWuB++OtG8/3sK4jz17Vvk41YLvOTnEh4ZRIWPGbLP8t2WUhUUjhWS5Q3x68CGgtm1prS9ZwqilXbse80GLOPTLM0gXi1FIOTk8disqYjDv6tU8rNu69X0LD9lCj1vyQ7KCUHFDQbLcIT490FbF9aHihoJkuUN8eqCtiusjGnH5mEnjxrzx2b8/Q2x278bfJNMsjCotLCQ+NJwu48fzvG7nThqDK1cOtLBopJAsd4hPD3zMzqZbcehQErpnD48HkwyxoFt16wUatvE4X79p0oT1Dhnyk4WRNWVl91toj0c6cIpkBaHihoJkuUN8eqCtiutDxQ0FyXKH+PRAWxXXRzTicqDxOJ/ZaNPmFssPPuhB2bz5NcuVFsLatGGNjvzNwuOyiooPLbS+27dn0UghWe4Qnx40OWMxXpBq3vw5y//44G2euXMZlnv99VQnjRtTPI49ZTwXzcubYOF53ZYtfFZk/nw6ODPQxSmQrCBU3FCQLHeITw+0VXF9qLihIFnuEJ8eaKvi+ohGXA+aOYnE4ZZ7fNArtmoV/m7ezOs1y5bx7unYsQwY6dyZFaVsM/G47Nxz/8vyveVfLTT3out680Oy3CHeEeyLx/G3efOnfPAIq7h4noV3c0eM6GLZO7w3CSvywcnhG9zDuzg9evynhb7Gbdv+xcLw3tAjmwMhWUGouKEgWe4Q7wiKqbgqbkhIljvEO4JiKm7k4nqQjHicBmYSsjhiBHmdN48+Fd8XSOkwmzaNL+EPG8ZXsjp2ZI3xOK+lFhQw4mPiRF7k3bSJltf8+ZdY2KHMQLLcIb66cE4nErzFm+RRC/4WFzPiacUKPrA6Z85FliMtvO7coAHt2bw83gNu3Zr/MjB5Mv1tJSW8prNxI92ZhYUUSeiRPYGQrCBU3FCQLHeIry5oq+JWhdDqwtGouPuB+OqCtipuVQiNFAZ1tmjxzxY+UTl1KmM3Vq+mDbVtGw++Vq7ko9qTJt1s4VHYwIF8dHzhQvrAKiqmW2gpd+7MtjMDyXKH+NBgTZLDLDzmGjKEV66//PJbC6/+bNiw1EK+pk+fYcH64mLG0WzdyvtYpaV8qHXWLL4mEumXwqpCsoJQcUNBstwhPjQ4mwRtVdzIQVsVV8VND5IVRI2K60Gm43GGeRYV8VmvkSNJzKxZfAx78eLvLL9a+Ccbixb9YkHbigoayNOm0S7u2JFNZgaS5Q7xkUJvVixGj1duLn1gXbpwxt9886sWOiZXrfrcwkfHly+nMli4kPuPsjJuIDZtutVCuzj0x9dSQ7KCUHFDQbLcIT5S0FbFzRxoq+JGCtqquDUJT7dycvhoR7t251gweuTIBRa+NbJjB/taWfmzhfeJp0w5xcIGMgObd4f4DEOfWSJBR1deXk8LdwkDB/KFj0GDGLbz3HN0fZWU8CZxeTnN4aVL77Sw3khH31aFZAWh4oaCzbtDfIZBLhU3c6CtihspyKXi1go03GIxOmBateJx0IoVf1pI+XPPdbMwTiTS/9BZFZLlDvE1DvcW8Tit4NxcHkIWFPDSVf/+dEOuXMl/fdm+ne6x4uLzLCS39tKr4oaCZLlDfI2DtipuDYC2Km4UoK2KWwMw3jMrq5eFL1yuXcu3xtesoZk2aBDpzHBCPUiWO8TXAagVYjEavz17MlbaBy/uTJhwqIWY0F8HSw3JCkLFDQXJcof4OgACqriRg7YqbmZAQBU3ctBWxc0MCKjiRg7/8CU/nx7aKVN4EFlW9m8WRjVH92mcNCFZ7hBfB6A/NpHg03mPPcbj3U2bGLk3dSo3vN26UYVk5g2zqpCsIFTcUJAsd4ivA6Ctihs5aKviZga0VXEjh3/40qjRB5b1lqssqJ2fT0xNQbLcIb72oDvX9/EhHpr74P8qjh5NT29BATGZecOsKiQrCBU3FCTLHeJrDwRUcTMH2qq4kYKAKm7m4AvtDRvOrAIfWunRg0VrHJLlDvE1Dt7F44wDb9CAfzQwahR7VllJrbB+Pb2PvXrxdDg3l+ZwhgeFebBDQai4oSBZ7hBf46CtilsDoK2KGwVoq+LWADwKy86+wnKxhS+utG7NojUOyXKH+NoDE3Nz77D8buEt9RkzmlmwNZHgcVmGH5h5kKwgVNxQkCx3iK890FbFzRxoq+JGCtqquAcnJMsd4msPmrrx+HEW/L3jDl5p79KFp2RZWdhaU756kKwgVNxQkCx3iK890FbFPTghWe4QX3ugrYp7cEKy3CG+DoCSsRjdYw0a0J6t8RZtVUhWECpuKEiWO8TXAXBTxT2oIFnuEF8HwE0V96CCZLmDEbXnRF2G1MRiJCsIFTcUJMsdSkbFDYLUqLiZg2S5Q8mouEGQmuqJqyh1GRVXqZeouEq9RMVV6iUqrlIvUXGVeomKq9RLVFylXqLiKvUSFVepl6i4Sr1ExVXqIZWV/we7Lf60bz+wyQAAAABJRU5ErkJggg==)\n",
    "\n",
    "\n",
    "</center>"
   ]
  },
  {
   "cell_type": "markdown",
   "metadata": {
    "id": "FhR7yfu31LIT"
   },
   "source": [
    "<center>Conversion of 9 to 4</center>"
   ]
  },
  {
   "cell_type": "markdown",
   "metadata": {
    "id": "XSXndD-Z1LIT"
   },
   "source": [
    "<center>\n",
    "\n",
    "![9to4.png](data:image/png;base64,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)\n",
    "\n",
    "</center>"
   ]
  },
  {
   "cell_type": "markdown",
   "metadata": {
    "id": "rX_r8fqo1LIT"
   },
   "source": [
    "### Pipeline\n",
    "The Sequence of the Project"
   ]
  },
  {
   "cell_type": "markdown",
   "metadata": {
    "id": "ttQxrUiu1LIT"
   },
   "source": [
    "1. Importing Libraries\n",
    "2. Data Loading and Visualization\n",
    "3. Data Preprocessing\n",
    "4. Model Building\n",
    "5. Model Training\n",
    "6. Generating a GIF"
   ]
  },
  {
   "cell_type": "markdown",
   "metadata": {
    "id": "u_nN-KoD1LIU"
   },
   "source": [
    "### Import Libraries\n",
    "\n",
    "Versions of Libraries -\n",
    "\n",
    "1.   numpy - 1.19.2\n",
    "2.   tensorflow - 2.4.1\n",
    "3.   matplotlib - 3.3.2\n",
    "4.   skimage - 0.17.2\n",
    "\n",
    "\n",
    "\n",
    "\n",
    "\n"
   ]
  },
  {
   "cell_type": "code",
   "execution_count": null,
   "metadata": {
    "id": "JI4I7eXR1LIV"
   },
   "outputs": [],
   "source": [
    "import numpy as np\n",
    "import tensorflow as tf\n",
    "import matplotlib.pyplot as plt\n",
    "from skimage.transform import resize\n",
    "from keras.utils.vis_utils import plot_model\n",
    "import imageio\n",
    "import glob"
   ]
  },
  {
   "cell_type": "markdown",
   "metadata": {
    "id": "IemY8SzZ1LIX"
   },
   "source": [
    "### Data Loading and Visualization\n",
    "1. Data Loading\n",
    "2. Data Visualization"
   ]
  },
  {
   "cell_type": "markdown",
   "metadata": {
    "id": "YKIXSig31LIX"
   },
   "source": [
    "#### Data Loading"
   ]
  },
  {
   "cell_type": "code",
   "execution_count": null,
   "metadata": {
    "id": "iuGVPOo7Cce0"
   },
   "outputs": [],
   "source": [
    "(train_images, train_labels), (_, _) = tf.keras.datasets.mnist.load_data()"
   ]
  },
  {
   "cell_type": "markdown",
   "metadata": {
    "id": "9HvfAVIt1LIY"
   },
   "source": [
    "Declare Batch Size"
   ]
  },
  {
   "cell_type": "code",
   "execution_count": null,
   "metadata": {
    "id": "MqDDGUid1LIY"
   },
   "outputs": [],
   "source": [
    "BATCH_SIZE = 1024"
   ]
  },
  {
   "cell_type": "markdown",
   "metadata": {
    "heading_collapsed": true,
    "id": "vGt5XYEK1LIZ"
   },
   "source": [
    "#### Data Visualization of Image containing 4 and 9"
   ]
  },
  {
   "cell_type": "code",
   "execution_count": null,
   "metadata": {
    "colab": {
     "base_uri": "https://localhost:8080/"
    },
    "hidden": true,
    "id": "29a8_b3x1LIZ",
    "outputId": "6b26da1f-9311-40b0-c6a3-478af01e90b2"
   },
   "outputs": [],
   "source": [
    "img4 = train_images[train_labels == 4]\n",
    "img4 = (img4/127.5)-1.0 # Normalize the images to [-1.0, 1.0]\n",
    "img4.shape"
   ]
  },
  {
   "cell_type": "markdown",
   "metadata": {
    "hidden": true,
    "id": "qyxk4CRWT32D"
   },
   "source": [
    "Total 5842 Images of digit 4"
   ]
  },
  {
   "cell_type": "code",
   "execution_count": null,
   "metadata": {
    "colab": {
     "base_uri": "https://localhost:8080/",
     "height": 140
    },
    "hidden": true,
    "id": "z20J0q8n1LIZ",
    "outputId": "6b31ee98-aec3-4e9b-a661-81d27fff1ace"
   },
   "outputs": [],
   "source": [
    "plt.figure(figsize=(2, 2))\n",
    "plt.imshow(img4[0], cmap='gray')\n",
    "plt.axis('off')\n",
    "plt.show()"
   ]
  },
  {
   "cell_type": "code",
   "execution_count": null,
   "metadata": {
    "colab": {
     "base_uri": "https://localhost:8080/"
    },
    "hidden": true,
    "id": "Zyz_d_ac1LIa",
    "outputId": "210d2870-e746-4b27-87c1-173ccc0650a5"
   },
   "outputs": [],
   "source": [
    "img9 = train_images[train_labels == 9]\n",
    "img9 = (img9/127.5)-1.0 # Normalize the images to [-1.0, 1.0]\n",
    "img9.shape"
   ]
  },
  {
   "cell_type": "markdown",
   "metadata": {
    "hidden": true,
    "id": "2Jm73VSGT-M9"
   },
   "source": [
    "Total 5949 Images of digit 9"
   ]
  },
  {
   "cell_type": "code",
   "execution_count": null,
   "metadata": {
    "colab": {
     "base_uri": "https://localhost:8080/",
     "height": 140
    },
    "hidden": true,
    "id": "FcJiIkQt1LIa",
    "outputId": "35704d13-b65b-4a02-dabd-4819dfc2d7fa"
   },
   "outputs": [],
   "source": [
    "plt.figure(figsize=(2, 2))\n",
    "plt.imshow(img9[0], cmap='gray')\n",
    "plt.axis('off')\n",
    "plt.show()"
   ]
  },
  {
   "cell_type": "markdown",
   "metadata": {
    "id": "aWyGC0cg1LIa"
   },
   "source": [
    "### Data Preprocessing\n",
    "1.   Data Resizing\n",
    "2.   Data Reshaping\n",
    "3.   Batch and Shuffle Data"
   ]
  },
  {
   "cell_type": "markdown",
   "metadata": {
    "id": "uW1S_-q01LIa"
   },
   "source": [
    "#### Resize Images to size (32, 32)"
   ]
  },
  {
   "cell_type": "code",
   "execution_count": null,
   "metadata": {
    "colab": {
     "base_uri": "https://localhost:8080/"
    },
    "id": "Pbo6NXgo1LIb",
    "outputId": "06e43228-5e7e-48a4-b6b7-91166c4dbbf8"
   },
   "outputs": [],
   "source": [
    "digit4_data = np.zeros((img4.shape[0], 32, 32))\n",
    "for index, img in enumerate(img4):\n",
    "    digit4_data[index, :, :] = resize(img, (32, 32))\n",
    "digit4_data.shape"
   ]
  },
  {
   "cell_type": "code",
   "execution_count": null,
   "metadata": {
    "colab": {
     "base_uri": "https://localhost:8080/"
    },
    "id": "UpcB06jN1LIb",
    "outputId": "54c0f9f6-5183-416f-c39f-c2aacf686d39"
   },
   "outputs": [],
   "source": [
    "digit9_data = np.zeros((img9.shape[0], 32, 32))\n",
    "for index, img in enumerate(img9):\n",
    "    digit9_data[index, :, :] = resize(img, (32, 32))\n",
    "digit9_data.shape"
   ]
  },
  {
   "cell_type": "markdown",
   "metadata": {
    "id": "C0hvMJOQ1LIb"
   },
   "source": [
    "#### Reshape Images to (32, 32, 1) with float pixel values"
   ]
  },
  {
   "cell_type": "code",
   "execution_count": null,
   "metadata": {
    "id": "9GmuaGPH1LIc"
   },
   "outputs": [],
   "source": [
    "digit4_data = digit4_data.reshape(digit4_data.shape[0], 32, 32, 1).astype('float32')\n",
    "digit9_data = digit9_data.reshape(digit9_data.shape[0], 32, 32, 1).astype('float32')"
   ]
  },
  {
   "cell_type": "markdown",
   "metadata": {
    "id": "syA84E_6Ujla"
   },
   "source": [
    "#### Batch and shuffle the data"
   ]
  },
  {
   "cell_type": "code",
   "execution_count": null,
   "metadata": {
    "id": "41Vy7OU11LIc"
   },
   "outputs": [],
   "source": [
    "digit4_data = tf.data.Dataset.from_tensor_slices(digit4_data).shuffle(img4.shape[0], seed=42).batch(BATCH_SIZE)\n",
    "digit9_data = tf.data.Dataset.from_tensor_slices(digit9_data).shuffle(img9.shape[0], seed=42).batch(BATCH_SIZE)"
   ]
  },
  {
   "cell_type": "code",
   "execution_count": null,
   "metadata": {
    "colab": {
     "base_uri": "https://localhost:8080/",
     "height": 156
    },
    "id": "4pOYjMk_KfIB",
    "outputId": "c83316e4-2663-4119-8174-3be4a91b6baf"
   },
   "outputs": [],
   "source": [
    "sample_digit4_data = next(iter(digit4_data))\n",
    "plt.figure(figsize=(2, 2))\n",
    "plt.imshow(sample_digit4_data[0].numpy()[:, :, 0], cmap='gray')\n",
    "plt.title('digit4_data')\n",
    "plt.axis('off')\n",
    "plt.show()"
   ]
  },
  {
   "cell_type": "code",
   "execution_count": null,
   "metadata": {
    "colab": {
     "base_uri": "https://localhost:8080/",
     "height": 156
    },
    "id": "0KJyB9ENLb2y",
    "outputId": "ccc3f629-5e7d-4329-efa8-bbe1083f8774"
   },
   "outputs": [],
   "source": [
    "sample_digit9_data = next(iter(digit9_data))\n",
    "plt.figure(figsize=(2, 2))\n",
    "plt.imshow(sample_digit9_data[0].numpy()[:, :, 0], cmap='gray')\n",
    "plt.title('digit9_data')\n",
    "plt.axis('off')\n",
    "plt.show()"
   ]
  },
  {
   "cell_type": "markdown",
   "metadata": {
    "id": "ByNSiR8u1LId"
   },
   "source": [
    "### Model Building\n",
    "1. Instance Normalization\n",
    "2. Downsampling, Upsampling and Unet\n",
    "3. Generator Building using Unet\n",
    "4. Discriminator Building"
   ]
  },
  {
   "cell_type": "markdown",
   "metadata": {
    "id": "pZtlaLeW1LId"
   },
   "source": [
    "#### Instance Normalization\n",
    "Instance Normalization are specially used with Style Transfer, where Separate Normalization is performed for each sample we perform channelwise Normalization."
   ]
  },
  {
   "cell_type": "markdown",
   "metadata": {
    "id": "ktT-q8hsM4G8"
   },
   "source": [
    "![instance_norm.png](data:image/png;base64,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)"
   ]
  },
  {
   "cell_type": "code",
   "execution_count": null,
   "metadata": {
    "id": "GOz4wg8z1LIe"
   },
   "outputs": [],
   "source": [
    "class InstanceNormalization(tf.keras.layers.Layer):\n",
    "    # Initialization of Objects\n",
    "    def __init__(self, epsilon=1e-5):\n",
    "        # calling parent's init\n",
    "        super(InstanceNormalization, self).__init__()\n",
    "        self.epsilon = epsilon\n",
    "    \n",
    "    def build(self, input_shape):\n",
    "        self.scale = self.add_weight(\n",
    "            name='scale',\n",
    "            shape=input_shape[-1:],\n",
    "            initializer=tf.random_normal_initializer(1., 0.02),\n",
    "            trainable=True)\n",
    "        self.offset = self.add_weight(\n",
    "            name='offset',\n",
    "            shape=input_shape[-1:],\n",
    "            initializer='zeros',\n",
    "            trainable=True)\n",
    "    \n",
    "    def call(self, x):\n",
    "        # Compute Mean and Variance, Axes=[1,2] ensures Instance Normalization\n",
    "        mean, variance = tf.nn.moments(x, axes=[1, 2], keepdims=True)\n",
    "        inv = tf.math.rsqrt(variance + self.epsilon)\n",
    "        normalized = (x - mean) * inv\n",
    "        return self.scale * normalized + self.offset"
   ]
  },
  {
   "cell_type": "markdown",
   "metadata": {
    "heading_collapsed": true,
    "id": "mwkUbygb1LIe"
   },
   "source": [
    "#### Downsampling\n",
    "Downsampling is performed using the Convolution, leading to reduce in dimensions."
   ]
  },
  {
   "cell_type": "code",
   "execution_count": null,
   "metadata": {
    "hidden": true,
    "id": "9rs6XQaG1LIe"
   },
   "outputs": [],
   "source": [
    "def downsample(filters, size, apply_norm=True):\n",
    "    initializer = tf.random_normal_initializer(0., 0.02)\n",
    "    result = tf.keras.Sequential()\n",
    "    # Add Conv2d layer\n",
    "    result.add(tf.keras.layers.Conv2D(filters, size, strides=2, padding='same', kernel_initializer=initializer, use_bias=False))\n",
    "    # Add Normalization layer\n",
    "    if apply_norm:\n",
    "        result.add(InstanceNormalization())\n",
    "    # Add Leaky Relu Activation\n",
    "    result.add(tf.keras.layers.LeakyReLU())\n",
    "    return result"
   ]
  },
  {
   "cell_type": "markdown",
   "metadata": {
    "heading_collapsed": true,
    "id": "ZynpMQIG1LIf"
   },
   "source": [
    "#### Upsampling\n",
    "Upsampling is a result of Transposed Convolution, where dimension of image are increased."
   ]
  },
  {
   "cell_type": "code",
   "execution_count": null,
   "metadata": {
    "hidden": true,
    "id": "etg1996M1LIf"
   },
   "outputs": [],
   "source": [
    "def upsample(filters, size, apply_dropout=False):\n",
    "    initializer = tf.random_normal_initializer(0., 0.02)\n",
    "    result = tf.keras.Sequential()\n",
    "    # Add Transposed Conv2d layer\n",
    "    result.add(tf.keras.layers.Conv2DTranspose(filters, size, strides=2, padding='same',\n",
    "                                               kernel_initializer=initializer, use_bias=False))\n",
    "    # Add Normalization Layer\n",
    "    result.add(InstanceNormalization())\n",
    "    # Conditionally add Dropout layer\n",
    "    if apply_dropout:\n",
    "        result.add(tf.keras.layers.Dropout(0.5))\n",
    "    # Add Relu Activation Layer\n",
    "    result.add(tf.keras.layers.ReLU())\n",
    "    return result"
   ]
  },
  {
   "cell_type": "markdown",
   "metadata": {
    "id": "WVAl4E2B1LIf"
   },
   "source": [
    "#### Unets\n",
    "Unets takes Image as an input and translate it into another Image. <p>\n",
    "To do this they first use Downsampling on Input Image to learn the latent characteristics of Input Image and then use Upsampling to use this knowledge to Translate it into another Image. <p>\n",
    "Let's understand it through the below image."
   ]
  },
  {
   "cell_type": "markdown",
   "metadata": {
    "id": "uWI_Iu4b1LIf"
   },
   "source": [
    "<center>\n",
    "\n",
    "![unet.png](data:image/png;base64,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)\n",
    "\n",
    "</center>"
   ]
  },
  {
   "cell_type": "code",
   "execution_count": null,
   "metadata": {
    "id": "-p3-KkzV1LIg"
   },
   "outputs": [],
   "source": [
    "# Unet Generator is a combination of Convolution + Transposed Convolution Layers\n",
    "def unet_generator():\n",
    "    down_stack = [\n",
    "        downsample(64, 4, False), # (bs, 16, 16, 64)\n",
    "        downsample(128, 4), # (bs, 8, 8, 128)\n",
    "        downsample(128, 4), # (bs, 4, 4, 128)\n",
    "        downsample(128, 4), # (bs, 2, 2, 128)\n",
    "        downsample(128, 4) # (bs, 1, 1, 128)\n",
    "    ]\n",
    "    up_stack = [\n",
    "        upsample(128, 4, True), # (bs, 2, 2, 256)\n",
    "        upsample(128, 4, True), # (bs, 4, 4, 256)\n",
    "        upsample(128, 4), # (bs, 8, 8, 256)\n",
    "        upsample(64, 4) # (bs, 16, 16, 128)\n",
    "    ]\n",
    "    initializer = tf.random_normal_initializer(0., 0.02)\n",
    "    last = tf.keras.layers.Conv2DTranspose(1, 4, strides=2, padding='same', kernel_initializer=initializer,\n",
    "                                           activation='tanh') # (bs, 32, 32, 1)\n",
    "    concat = tf.keras.layers.Concatenate()\n",
    "    inputs = tf.keras.layers.Input(shape=[32, 32, 1])\n",
    "    x = inputs\n",
    "    # Downsampling through the model\n",
    "    skips = []\n",
    "    for down in down_stack:\n",
    "        x = down(x)\n",
    "        skips.append(x)\n",
    "    \n",
    "    skips = reversed(skips[:-1])\n",
    "    # Upsampling and establishing the skip connections\n",
    "    for up, skip in zip(up_stack, skips):\n",
    "        x = up(x)\n",
    "        x = concat([x, skip])\n",
    "    x = last(x)\n",
    "    return tf.keras.Model(inputs=inputs, outputs=x)"
   ]
  },
  {
   "cell_type": "markdown",
   "metadata": {
    "id": "jNiY2o851LIg"
   },
   "source": [
    "#### Generator\n",
    "Generator is a Unet Network here since We want to translate One type of Image (digit 4) into Another type of Image (digit 9)."
   ]
  },
  {
   "cell_type": "code",
   "execution_count": null,
   "metadata": {
    "id": "KLJInAZx1LIh"
   },
   "outputs": [],
   "source": [
    "generator_g = unet_generator()\n",
    "generator_f = unet_generator()"
   ]
  },
  {
   "cell_type": "markdown",
   "metadata": {
    "id": "ww-C1y2s1LIh"
   },
   "source": [
    "Let's also visualize one of our Generator Models since Both our Generators have same architecture.\n",
    "\n",
    "Notice How the dimension reduces first but then increases."
   ]
  },
  {
   "cell_type": "code",
   "execution_count": null,
   "metadata": {
    "colab": {
     "base_uri": "https://localhost:8080/"
    },
    "id": "FHW1LZSa1LIh",
    "outputId": "6df0f1c5-9a22-4546-95dd-a9110de33398"
   },
   "outputs": [],
   "source": [
    "generator_g.summary()"
   ]
  },
  {
   "cell_type": "markdown",
   "metadata": {
    "id": "l_P6nrfD1LIh"
   },
   "source": [
    "#### Discriminator\n",
    "Discriminator is a traditional CNN, which we use to classify the Images. It only uses Downsampling hence.\n",
    "\n",
    "Both Discriminators have same architecture"
   ]
  },
  {
   "cell_type": "code",
   "execution_count": null,
   "metadata": {
    "id": "leYwnMIN1LIh"
   },
   "outputs": [],
   "source": [
    "# Discriminators only contain Convolutional Layers and no Transposed Convolution is not used \n",
    "def discriminator():\n",
    "    initializer = tf.random_normal_initializer(0., 0.02)\n",
    "    # add input layer of size (32, 32, 1)\n",
    "    inp = tf.keras.layers.Input(shape=[32, 32, 1], name='input_image')\n",
    "    x = inp\n",
    "    \n",
    "    # add downsampling step here\n",
    "    down1 = downsample(64, 4, False)(x) # (bs, 16, 16, 64)\n",
    "    down2 = downsample(128, 4)(down1) # (bs, 8, 8, 128)\n",
    "    # add a padding layer here\n",
    "    zero_pad1 = tf.keras.layers.ZeroPadding2D()(down2) # (bs, 10, 10, 128)\n",
    "    \n",
    "    # implement a concrete downsampling layer here\n",
    "    conv = tf.keras.layers.Conv2D(256, 4, strides=1, kernel_initializer=initializer,\n",
    "                                  use_bias=False)(zero_pad1) # (bs, 7, 7, 256)\n",
    "    norm1 = InstanceNormalization()(conv)\n",
    "    leaky_relu = tf.keras.layers.LeakyReLU()(norm1)\n",
    "    \n",
    "    # apply zero padding layer\n",
    "    zero_pad2 = tf.keras.layers.ZeroPadding2D()(leaky_relu) # (bs, 9, 9, 256)\n",
    "    \n",
    "    # add a last pure 2D Convolution layer\n",
    "    last = tf.keras.layers.Conv2D(1, 4, strides=1, kernel_initializer=initializer)(zero_pad2) # (bs, 6, 6, 1)\n",
    "    return tf.keras.Model(inputs=inp, outputs=last)"
   ]
  },
  {
   "cell_type": "code",
   "execution_count": null,
   "metadata": {
    "id": "8ju9Wyw87MRW"
   },
   "outputs": [],
   "source": [
    "discriminator_x = discriminator()\n",
    "discriminator_y = discriminator()"
   ]
  },
  {
   "cell_type": "markdown",
   "metadata": {
    "id": "iIqsrRzB1LIi"
   },
   "source": [
    "Have a look at Discriminator's architecture, Notice that The Dimensions are reducing overall at the end since it's a classifier and only Convolution layers are being used."
   ]
  },
  {
   "cell_type": "code",
   "execution_count": null,
   "metadata": {
    "colab": {
     "base_uri": "https://localhost:8080/"
    },
    "id": "bslO8CIt1LIi",
    "outputId": "09ae6fd2-96bc-4caf-c20c-3ed5645a45f3"
   },
   "outputs": [],
   "source": [
    "discriminator_x.summary()"
   ]
  },
  {
   "cell_type": "markdown",
   "metadata": {
    "id": "yvEY7mhy1LIj"
   },
   "source": [
    "### Model Training\n",
    "1. Declare Loss type\n",
    "2. Calculate Discriminator Loss\n",
    "3. Calculate Generator Loss\n",
    "4. Cycle Loss\n",
    "5. Identity Loss\n",
    "6. Optimizer\n",
    "7. Checkpoint Initialization\n",
    "8. Training Flow"
   ]
  },
  {
   "cell_type": "markdown",
   "metadata": {
    "id": "E0IVrenm1LIj"
   },
   "source": [
    "Check output of Untrained Generator models which should be a random noise"
   ]
  },
  {
   "cell_type": "code",
   "execution_count": null,
   "metadata": {
    "colab": {
     "base_uri": "https://localhost:8080/",
     "height": 264
    },
    "id": "wDaGZ3WpZUyw",
    "outputId": "d5413bd8-f6ae-4f99-aeec-a3161568eff1"
   },
   "outputs": [],
   "source": [
    "to_digit9_data = generator_g(sample_digit4_data)\n",
    "to_digit4_data = generator_f(sample_digit9_data)\n",
    "plt.figure(figsize=(4, 4))\n",
    "\n",
    "imgs = [sample_digit4_data, to_digit9_data, sample_digit9_data, to_digit4_data]\n",
    "title = ['digit4_data', 'To digit9_data', 'digit9_data', 'To digit4_data']\n",
    "\n",
    "for i in range(len(imgs)):\n",
    "    plt.subplot(2, 2, i+1)\n",
    "    plt.title(title[i])\n",
    "    plt.imshow(imgs[i][0].numpy()[:, :, 0], cmap='gray')\n",
    "    plt.axis('off')\n",
    "plt.show()"
   ]
  },
  {
   "cell_type": "markdown",
   "metadata": {
    "heading_collapsed": true,
    "id": "OaqYbWOv1LIk"
   },
   "source": [
    "#### Declare Loss as Binary Cross Entropy\n",
    "Since Our Discriminator is a classifier"
   ]
  },
  {
   "cell_type": "code",
   "execution_count": null,
   "metadata": {
    "hidden": true,
    "id": "Q1Xbz5OaLj5C"
   },
   "outputs": [],
   "source": [
    "loss_obj = tf.keras.losses.BinaryCrossentropy(from_logits=True)"
   ]
  },
  {
   "cell_type": "markdown",
   "metadata": {
    "heading_collapsed": true,
    "id": "k9DRlQEt1LIk"
   },
   "source": [
    "#### Discriminator Loss\n",
    "It consists of two types of losses\n",
    "1.    Loss on Real Data\n",
    "2.    Loss on Fake Data"
   ]
  },
  {
   "cell_type": "code",
   "execution_count": null,
   "metadata": {
    "hidden": true,
    "id": "wkMNfBWlT-PV"
   },
   "outputs": [],
   "source": [
    "def discriminator_loss(real, generated):\n",
    "    real_loss = loss_obj(tf.ones_like(real), real)\n",
    "    generated_loss = loss_obj(tf.zeros_like(generated), generated)\n",
    "    total_disc_loss = real_loss + generated_loss\n",
    "    return total_disc_loss * 0.5 # mean of losses"
   ]
  },
  {
   "cell_type": "markdown",
   "metadata": {
    "heading_collapsed": true,
    "id": "uHkqZ9VH1LIk"
   },
   "source": [
    "#### Generator Loss\n",
    "It has only one type of loss - Discriminator Loss on Generated data"
   ]
  },
  {
   "cell_type": "code",
   "execution_count": null,
   "metadata": {
    "hidden": true,
    "id": "90BIcCKcDMxz"
   },
   "outputs": [],
   "source": [
    "def generator_loss(generated):\n",
    "    return loss_obj(tf.ones_like(generated), generated)"
   ]
  },
  {
   "cell_type": "markdown",
   "metadata": {
    "heading_collapsed": true,
    "id": "losQ1UFQ1LIl"
   },
   "source": [
    "#### Cycle Loss\n",
    "When we use both of Generators sequentially on a Input Image, we get Cycle Image and the L1 Loss between these two is called Cycle Loss."
   ]
  },
  {
   "cell_type": "markdown",
   "metadata": {
    "hidden": true,
    "id": "VWzbiLAyNUrm"
   },
   "source": [
    "![cycle_consistency_loss.png](data:image/png;base64,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)"
   ]
  },
  {
   "cell_type": "code",
   "execution_count": null,
   "metadata": {
    "hidden": true,
    "id": "NMpVGj_sW6Vo"
   },
   "outputs": [],
   "source": [
    "def calc_cycle_loss(real_image, cycled_image):\n",
    "    loss1 = tf.reduce_mean(tf.abs(real_image - cycled_image))\n",
    "    return 10.0 * loss1"
   ]
  },
  {
   "cell_type": "markdown",
   "metadata": {
    "heading_collapsed": true,
    "id": "dnpRG9eH1LIl"
   },
   "source": [
    "#### Identity Loss\n",
    "When we provide input image to the Generator such that no translation is needed because the Image is already transformed. Here also we take L1 Loss between Input and Output Image."
   ]
  },
  {
   "cell_type": "markdown",
   "metadata": {
    "hidden": true,
    "id": "zK7e0OgXP_Xj"
   },
   "source": [
    "![identity_loss.png](data:image/png;base64,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)"
   ]
  },
  {
   "cell_type": "code",
   "execution_count": null,
   "metadata": {
    "hidden": true,
    "id": "05ywEH680Aud"
   },
   "outputs": [],
   "source": [
    "def identity_loss(real_image, same_image):\n",
    "    loss = tf.reduce_mean(tf.abs(real_image - same_image))\n",
    "    return 0.5*loss"
   ]
  },
  {
   "cell_type": "markdown",
   "metadata": {
    "heading_collapsed": true,
    "id": "6UcUxw8L1LIl"
   },
   "source": [
    "#### Optimizer \n",
    "We use Adam Optimizer to update weights which is a good optimizer to achieve quick learning."
   ]
  },
  {
   "cell_type": "code",
   "execution_count": null,
   "metadata": {
    "hidden": true,
    "id": "iWCn_PVdEJZ7"
   },
   "outputs": [],
   "source": [
    "generator_g_optimizer = tf.keras.optimizers.Adam(2e-4, beta_1=0.5)\n",
    "generator_f_optimizer = tf.keras.optimizers.Adam(2e-4, beta_1=0.5)\n",
    "\n",
    "discriminator_x_optimizer = tf.keras.optimizers.Adam(2e-4, beta_1=0.5)\n",
    "discriminator_y_optimizer = tf.keras.optimizers.Adam(2e-4, beta_1=0.5)"
   ]
  },
  {
   "cell_type": "markdown",
   "metadata": {
    "hidden": true,
    "id": "OJ8iz3c51LIm"
   },
   "source": [
    "We'll train out Model for 100 Epochs"
   ]
  },
  {
   "cell_type": "code",
   "execution_count": null,
   "metadata": {
    "hidden": true,
    "id": "7Napc-I21LIm"
   },
   "outputs": [],
   "source": [
    "EPOCHS = 100"
   ]
  },
  {
   "cell_type": "markdown",
   "metadata": {
    "heading_collapsed": true,
    "id": "xRzhwRy41LIm"
   },
   "source": [
    "#### Checkpoint Initialization\n",
    "Initialize checkpoints to save models"
   ]
  },
  {
   "cell_type": "code",
   "execution_count": null,
   "metadata": {
    "hidden": true,
    "id": "WJnftd5sQsv6"
   },
   "outputs": [],
   "source": [
    "checkpoint_path = \"./Trained_Model\"\n",
    "\n",
    "ckpt = tf.train.Checkpoint(generator_g=generator_g,\n",
    "                           generator_f=generator_f,\n",
    "                           discriminator_x=discriminator_x,\n",
    "                           discriminator_y=discriminator_y,\n",
    "                           generator_g_optimizer=generator_g_optimizer,\n",
    "                           generator_f_optimizer=generator_f_optimizer,\n",
    "                           discriminator_x_optimizer=discriminator_x_optimizer,\n",
    "                           discriminator_y_optimizer=discriminator_y_optimizer)\n",
    "\n",
    "ckpt_manager = tf.train.CheckpointManager(ckpt, checkpoint_path, max_to_keep=3)\n",
    "\n",
    "# if a checkpoint exists, restore the latest checkpoint.\n",
    "if ckpt_manager.latest_checkpoint:\n",
    "    ckpt.restore(ckpt_manager.latest_checkpoint)\n",
    "    print ('Latest checkpoint restored!!')"
   ]
  },
  {
   "cell_type": "markdown",
   "metadata": {
    "hidden": true,
    "id": "Qsk61Avr1LIm"
   },
   "source": [
    "Function to show Images output by Generators while Training"
   ]
  },
  {
   "cell_type": "code",
   "execution_count": null,
   "metadata": {
    "hidden": true,
    "id": "RmdVsmvhPxyy"
   },
   "outputs": [],
   "source": [
    "def generate_images(model1, test_input1, model2, test_input2):\n",
    "    prediction1 = model1(test_input1)\n",
    "    prediction2 = model2(test_input2)\n",
    "    plt.figure(figsize=(8, 4))\n",
    "    display_list = [test_input1[0], prediction1[0], test_input2[0], prediction2[0]]\n",
    "    title = ['Input Image', 'Predicted Image', 'Input Image', 'Predicted Image']\n",
    "    for i in range(4):\n",
    "        plt.subplot(1, 4, i+1)\n",
    "        plt.title(title[i])\n",
    "        plt.imshow(display_list[i].numpy()[:, :, 0], cmap='gray')\n",
    "        plt.axis('off')\n",
    "\n",
    "    plt.savefig('image_at_epoch_{:04d}.png'.format(epoch))\n",
    "    plt.show()"
   ]
  },
  {
   "cell_type": "markdown",
   "metadata": {
    "heading_collapsed": true,
    "id": "Sbj3Nggq1LIn"
   },
   "source": [
    "#### Training FLow\n",
    "Below Function performs one Flow of Batch Training <p>\n",
    "Notice that Identity Loss and Cycle Loss are only used in training Generator and not Discriminator"
   ]
  },
  {
   "cell_type": "markdown",
   "metadata": {
    "hidden": true,
    "id": "_37LXwr6Qn51"
   },
   "source": [
    "Sequence of Training Flow\n",
    "\n",
    "\n",
    "1.   Generate Fake Y and Cycled X\n",
    "2.   Generate Fake X and Cycled Y\n",
    "3.   Generate Fake Images through G and F for Identity Loss.\n",
    "4.   Calculate Discriminator Loss for Disc X and Disc Y on Fake Data for Generator Training.\n",
    "5.   Calculate Generator Loss on Discriminator.\n",
    "6.   Calculate Cycled Loss on Cycled Images from step 1 and 2.\n",
    "7.   Calculate Total Generator Loss - Disc Loss + Cycled Loss + Identity Loss\n",
    "8.   Calculate Discriminator Loss on both Fake and Real Images for Disc X and Y for Disc Training.\n",
    "9.   Calculate the Gradients and update the weight and bias of models.\n",
    "\n"
   ]
  },
  {
   "cell_type": "code",
   "execution_count": null,
   "metadata": {
    "hidden": true,
    "id": "KBKUV2sKXDbY"
   },
   "outputs": [],
   "source": [
    "@tf.function\n",
    "def train_step(real_x, real_y):\n",
    "    # persistent is set to True because the tape is used more than\n",
    "    # once to calculate the gradients.\n",
    "    with tf.GradientTape(persistent=True) as tape:\n",
    "        # Generator G translates X -> Y\n",
    "        # Generator F translates Y -> X\n",
    "        fake_y = generator_g(real_x, training=True)\n",
    "        cycled_x = generator_f(fake_y, training=True)\n",
    "        \n",
    "        fake_x = generator_f(real_y, training=True)\n",
    "        cycled_y = generator_g(fake_x, training=True)\n",
    "        \n",
    "        # same_x and same_y are used for identity loss.\n",
    "        same_x = generator_f(real_x, training=True)\n",
    "        same_y = generator_g(real_y, training=True)\n",
    "        \n",
    "        disc_real_x = discriminator_x(real_x, training=True)\n",
    "        disc_real_y = discriminator_y(real_y, training=True)\n",
    "        \n",
    "        disc_fake_x = discriminator_x(fake_x, training=True)\n",
    "        disc_fake_y = discriminator_y(fake_y, training=True)\n",
    "        \n",
    "        # calculate the loss\n",
    "        gen_g_loss = generator_loss(disc_fake_y)\n",
    "        gen_f_loss = generator_loss(disc_fake_x)\n",
    "        \n",
    "        total_cycle_loss = calc_cycle_loss(real_x, cycled_x) + calc_cycle_loss(real_y, cycled_y)\n",
    "        \n",
    "        # Total generator loss = BCE loss + cycle loss + identity loss\n",
    "        total_gen_g_loss = gen_g_loss + total_cycle_loss + identity_loss(real_y, same_y)\n",
    "        total_gen_f_loss = gen_f_loss + total_cycle_loss + identity_loss(real_x, same_x)\n",
    "        \n",
    "        # Discriminator's loss\n",
    "        disc_x_loss = discriminator_loss(disc_real_x, disc_fake_x)\n",
    "        disc_y_loss = discriminator_loss(disc_real_y, disc_fake_y)\n",
    "        \n",
    "    # Calculate the gradients for generator and discriminator\n",
    "    generator_g_gradients = tape.gradient(total_gen_g_loss, generator_g.trainable_variables)\n",
    "    generator_f_gradients = tape.gradient(total_gen_f_loss, generator_f.trainable_variables)\n",
    "    \n",
    "    discriminator_x_gradients = tape.gradient(disc_x_loss, discriminator_x.trainable_variables)\n",
    "    discriminator_y_gradients = tape.gradient(disc_y_loss, discriminator_y.trainable_variables)\n",
    "    \n",
    "    # Apply the gradients to the optimizer\n",
    "    generator_g_optimizer.apply_gradients(zip(generator_g_gradients, generator_g.trainable_variables))\n",
    "    generator_f_optimizer.apply_gradients(zip(generator_f_gradients, generator_f.trainable_variables))\n",
    "    \n",
    "    discriminator_x_optimizer.apply_gradients(zip(discriminator_x_gradients, discriminator_x.trainable_variables))\n",
    "    discriminator_y_optimizer.apply_gradients(zip(discriminator_y_gradients, discriminator_y.trainable_variables))"
   ]
  },
  {
   "cell_type": "markdown",
   "metadata": {
    "id": "GfqnILpg1LIn"
   },
   "source": [
    "#### Train the CycleGAN Model for several Epochs\n",
    "Loop training function for number of epochs and also show the output at each step. <p>\n",
    "Note how Generators are getting better at producing realistic images epoch by epoch"
   ]
  },
  {
   "cell_type": "code",
   "execution_count": null,
   "metadata": {
    "colab": {
     "base_uri": "https://localhost:8080/",
     "height": 1000
    },
    "id": "2M7LmLtGEMQJ",
    "outputId": "d075756a-83d7-438e-a586-5f132dff7322"
   },
   "outputs": [],
   "source": [
    "for epoch in range(1, EPOCHS+1):\n",
    "    for image_x, image_y in tf.data.Dataset.zip((digit4_data, digit9_data)):\n",
    "        train_step(image_x, image_y)\n",
    "    generate_images(generator_g, sample_digit4_data, generator_f, sample_digit9_data)\n",
    "    ckpt_save_path = ckpt_manager.save()\n",
    "    print('Saving checkpoint for epoch', epoch, 'at', ckpt_save_path)"
   ]
  },
  {
   "cell_type": "markdown",
   "metadata": {
    "id": "4BDsCKHm1LIn"
   },
   "source": [
    "### Generating a GIF for visualization of Results\n",
    "Notice the Quality of results we are getting."
   ]
  },
  {
   "cell_type": "code",
   "execution_count": null,
   "metadata": {
    "id": "tydfT_hARx3x"
   },
   "outputs": [],
   "source": [
    "anim_file = 'cyclegan.gif'\n",
    "\n",
    "with imageio.get_writer(anim_file, mode='I') as writer:\n",
    "  filenames = glob.glob('image*.png')\n",
    "  filenames = sorted(filenames)\n",
    "  for filename in filenames:\n",
    "    image = imageio.imread(filename)\n",
    "    writer.append_data(image)\n",
    "  image = imageio.imread(filename)\n",
    "  writer.append_data(image)"
   ]
  },
  {
   "cell_type": "code",
   "execution_count": null,
   "metadata": {
    "id": "S30iJbn1YfdY"
   },
   "outputs": [],
   "source": [
    "pip install git+https://github.com/tensorflow/docs"
   ]
  },
  {
   "cell_type": "code",
   "execution_count": null,
   "metadata": {
    "colab": {
     "base_uri": "https://localhost:8080/",
     "height": 309
    },
    "id": "Ix7YpCiQR7AD",
    "outputId": "cfab1eb6-7f02-4c06-962a-1fded4c30a8d"
   },
   "outputs": [],
   "source": [
    "import tensorflow_docs.vis.embed as embed\n",
    "embed.embed_file(anim_file)"
   ]
  }
 ],
 "metadata": {
  "accelerator": "GPU",
  "colab": {
   "collapsed_sections": [],
   "name": "CycleGAN-4&9.ipynb",
   "provenance": []
  },
  "kernelspec": {
   "display_name": "Python 3 (ipykernel)",
   "language": "python",
   "name": "python3"
  },
  "language_info": {
   "codemirror_mode": {
    "name": "ipython",
    "version": 3
   },
   "file_extension": ".py",
   "mimetype": "text/x-python",
   "name": "python",
   "nbconvert_exporter": "python",
   "pygments_lexer": "ipython3",
   "version": "3.9.12"
  }
 },
 "nbformat": 4,
 "nbformat_minor": 1
}
